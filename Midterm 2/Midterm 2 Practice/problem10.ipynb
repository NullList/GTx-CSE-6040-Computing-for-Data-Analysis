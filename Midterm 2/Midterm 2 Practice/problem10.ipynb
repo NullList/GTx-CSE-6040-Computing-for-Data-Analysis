{
 "cells": [
  {
   "cell_type": "markdown",
   "metadata": {
    "deletable": false,
    "editable": false,
    "nbgrader": {
     "grade": false,
     "locked": true,
     "solution": false
    }
   },
   "source": [
    "# Problem 10: Political Network Connections\n",
    "\n",
    "In this problem, you will analyze the network connections and strength between all persons and organizations in the *Trump World* using a combination of hash tables (i.e., dictionaries) and pandas dataframe.  "
   ]
  },
  {
   "cell_type": "markdown",
   "metadata": {
    "deletable": false,
    "editable": false,
    "nbgrader": {
     "grade": false,
     "locked": true,
     "solution": false
    }
   },
   "source": [
    "## The dataset\n",
    "\n",
    "The dataset for this problem is built from public records, news reports, and other sources on the Trump family, his Cabinet picks, and top advisers - more than 1,500 people and organizations altogether. \n",
    "\n",
    "Each row represents a connection between a person and an organization (e.g., The Trump Organization Inc. and Donald J. Trump), a person and another person (e.g., Donald J. Trump and Linda McMahon), or two organizations (e.g., Bedford Hills Corp. and Seven Springs LLC).\n",
    "\n",
    "Source: https://www.buzzfeednews.com/article/johntemplon/help-us-map-trumpworld\n",
    "\n",
    "Before starting, please run the following cell to set up the environment and import the data to `Network`."
   ]
  },
  {
   "cell_type": "code",
   "execution_count": 1,
   "metadata": {
    "deletable": false,
    "editable": false,
    "nbgrader": {
     "grade": false,
     "locked": true,
     "solution": false
    }
   },
   "outputs": [
    {
     "data": {
      "text/html": [
       "<div>\n",
       "<style scoped>\n",
       "    .dataframe tbody tr th:only-of-type {\n",
       "        vertical-align: middle;\n",
       "    }\n",
       "\n",
       "    .dataframe tbody tr th {\n",
       "        vertical-align: top;\n",
       "    }\n",
       "\n",
       "    .dataframe thead th {\n",
       "        text-align: right;\n",
       "    }\n",
       "</style>\n",
       "<table border=\"1\" class=\"dataframe\">\n",
       "  <thead>\n",
       "    <tr style=\"text-align: right;\">\n",
       "      <th></th>\n",
       "      <th>Entity A Type</th>\n",
       "      <th>Entity A</th>\n",
       "      <th>Entity B Type</th>\n",
       "      <th>Entity B</th>\n",
       "      <th>Connection_Strength</th>\n",
       "    </tr>\n",
       "  </thead>\n",
       "  <tbody>\n",
       "    <tr>\n",
       "      <th>0</th>\n",
       "      <td>Organization</td>\n",
       "      <td>4 SHADOW TREE LANE MEMBER CORP.</td>\n",
       "      <td>Organization</td>\n",
       "      <td>4 SHADOW TREE LANE LLC</td>\n",
       "      <td>0.469155</td>\n",
       "    </tr>\n",
       "    <tr>\n",
       "      <th>1</th>\n",
       "      <td>Organization</td>\n",
       "      <td>40 WALL DEVELOPMENT ASSOCIATES LLC</td>\n",
       "      <td>Organization</td>\n",
       "      <td>40 WALL STREET LLC</td>\n",
       "      <td>0.035480</td>\n",
       "    </tr>\n",
       "    <tr>\n",
       "      <th>2</th>\n",
       "      <td>Organization</td>\n",
       "      <td>40 WALL STREET LLC</td>\n",
       "      <td>Organization</td>\n",
       "      <td>40 WALL STREET COMMERCIAL LLC</td>\n",
       "      <td>0.177874</td>\n",
       "    </tr>\n",
       "    <tr>\n",
       "      <th>3</th>\n",
       "      <td>Organization</td>\n",
       "      <td>40 WALL STREET MEMBER CORP.</td>\n",
       "      <td>Organization</td>\n",
       "      <td>40 WALL STREET LLC</td>\n",
       "      <td>0.236508</td>\n",
       "    </tr>\n",
       "    <tr>\n",
       "      <th>4</th>\n",
       "      <td>Organization</td>\n",
       "      <td>401 MEZZ VENTURE LLC</td>\n",
       "      <td>Organization</td>\n",
       "      <td>401 NORTH WABASH VENTURE LLC</td>\n",
       "      <td>0.169532</td>\n",
       "    </tr>\n",
       "  </tbody>\n",
       "</table>\n",
       "</div>"
      ],
      "text/plain": [
       "  Entity A Type                            Entity A Entity B Type  \\\n",
       "0  Organization     4 SHADOW TREE LANE MEMBER CORP.  Organization   \n",
       "1  Organization  40 WALL DEVELOPMENT ASSOCIATES LLC  Organization   \n",
       "2  Organization                  40 WALL STREET LLC  Organization   \n",
       "3  Organization         40 WALL STREET MEMBER CORP.  Organization   \n",
       "4  Organization                401 MEZZ VENTURE LLC  Organization   \n",
       "\n",
       "                        Entity B  Connection_Strength  \n",
       "0         4 SHADOW TREE LANE LLC             0.469155  \n",
       "1             40 WALL STREET LLC             0.035480  \n",
       "2  40 WALL STREET COMMERCIAL LLC             0.177874  \n",
       "3             40 WALL STREET LLC             0.236508  \n",
       "4   401 NORTH WABASH VENTURE LLC             0.169532  "
      ]
     },
     "execution_count": 1,
     "metadata": {},
     "output_type": "execute_result"
    }
   ],
   "source": [
    "import math\n",
    "import pandas as pd\n",
    "import numpy as np\n",
    "from collections import defaultdict\n",
    "\n",
    "Network = pd.read_csv(\"./resource/asnlib/publicdata/network/network.csv\", encoding='latin-1' )\n",
    "assert len(Network) == 3380\n",
    "Network.head()"
   ]
  },
  {
   "cell_type": "markdown",
   "metadata": {
    "deletable": false,
    "editable": false,
    "nbgrader": {
     "grade": false,
     "locked": true,
     "solution": false
    }
   },
   "source": [
    "**Exercise 0** (1 points). Create a subset of the data frame named `Network_sub`, keeping only records where `Entity B` contains the keyword \"TRUMP\" (not case sensitive)."
   ]
  },
  {
   "cell_type": "code",
   "execution_count": 2,
   "metadata": {},
   "outputs": [
    {
     "data": {
      "text/html": [
       "<div>\n",
       "<style scoped>\n",
       "    .dataframe tbody tr th:only-of-type {\n",
       "        vertical-align: middle;\n",
       "    }\n",
       "\n",
       "    .dataframe tbody tr th {\n",
       "        vertical-align: top;\n",
       "    }\n",
       "\n",
       "    .dataframe thead th {\n",
       "        text-align: right;\n",
       "    }\n",
       "</style>\n",
       "<table border=\"1\" class=\"dataframe\">\n",
       "  <thead>\n",
       "    <tr style=\"text-align: right;\">\n",
       "      <th></th>\n",
       "      <th>Entity A Type</th>\n",
       "      <th>Entity A</th>\n",
       "      <th>Entity B Type</th>\n",
       "      <th>Entity B</th>\n",
       "      <th>Connection_Strength</th>\n",
       "    </tr>\n",
       "  </thead>\n",
       "  <tbody>\n",
       "    <tr>\n",
       "      <th>5</th>\n",
       "      <td>Organization</td>\n",
       "      <td>401 MEZZ VENTURE LLC</td>\n",
       "      <td>Organization</td>\n",
       "      <td>TRUMP CHICAGO RETAIL LLC</td>\n",
       "      <td>0.852985</td>\n",
       "    </tr>\n",
       "    <tr>\n",
       "      <th>6</th>\n",
       "      <td>Organization</td>\n",
       "      <td>401 NORTH WABASH VENTURE LLC</td>\n",
       "      <td>Organization</td>\n",
       "      <td>TRUMP COMMERCIAL CHICAGO LLC</td>\n",
       "      <td>0.207837</td>\n",
       "    </tr>\n",
       "    <tr>\n",
       "      <th>7</th>\n",
       "      <td>Organization</td>\n",
       "      <td>401 NORTH WABASH VENTURE LLC</td>\n",
       "      <td>Organization</td>\n",
       "      <td>TRUMP PAYROLL CHICAGO LLC</td>\n",
       "      <td>0.910172</td>\n",
       "    </tr>\n",
       "    <tr>\n",
       "      <th>14</th>\n",
       "      <td>Person</td>\n",
       "      <td>ABE WALLACH</td>\n",
       "      <td>Organization</td>\n",
       "      <td>THE TRUMP ORGANIZATION, INC.</td>\n",
       "      <td>0.452901</td>\n",
       "    </tr>\n",
       "    <tr>\n",
       "      <th>17</th>\n",
       "      <td>Organization</td>\n",
       "      <td>ACE ENTERTAINMENT HOLDINGS INC</td>\n",
       "      <td>Organization</td>\n",
       "      <td>TRUMP CASINOS INC.</td>\n",
       "      <td>0.202485</td>\n",
       "    </tr>\n",
       "  </tbody>\n",
       "</table>\n",
       "</div>"
      ],
      "text/plain": [
       "   Entity A Type                        Entity A Entity B Type  \\\n",
       "5   Organization            401 MEZZ VENTURE LLC  Organization   \n",
       "6   Organization    401 NORTH WABASH VENTURE LLC  Organization   \n",
       "7   Organization    401 NORTH WABASH VENTURE LLC  Organization   \n",
       "14        Person                     ABE WALLACH  Organization   \n",
       "17  Organization  ACE ENTERTAINMENT HOLDINGS INC  Organization   \n",
       "\n",
       "                        Entity B  Connection_Strength  \n",
       "5       TRUMP CHICAGO RETAIL LLC             0.852985  \n",
       "6   TRUMP COMMERCIAL CHICAGO LLC             0.207837  \n",
       "7      TRUMP PAYROLL CHICAGO LLC             0.910172  \n",
       "14  THE TRUMP ORGANIZATION, INC.             0.452901  \n",
       "17            TRUMP CASINOS INC.             0.202485  "
      ]
     },
     "execution_count": 2,
     "metadata": {},
     "output_type": "execute_result"
    }
   ],
   "source": [
    "# Store the subset in Network_sub\n",
    "Network_sub = Network[Network['Entity B'].str.contains('TRUMP')]\n",
    "Network_sub.head()"
   ]
  },
  {
   "cell_type": "code",
   "execution_count": 3,
   "metadata": {
    "deletable": false,
    "editable": false,
    "nbgrader": {
     "grade": true,
     "grade_id": "test_subset",
     "locked": true,
     "points": "1",
     "solution": false
    }
   },
   "outputs": [
    {
     "name": "stdout",
     "output_type": "stream",
     "text": [
      "\n",
      "(Passed.)\n"
     ]
    }
   ],
   "source": [
    "# Test cell: `test_subset`\n",
    "\n",
    "assert type(Network_sub)==pd.DataFrame, \"Your subset is not a panda dataframe\"\n",
    "assert list(Network_sub)==['Entity A Type','Entity A','Entity B Type','Entity B','Connection_Strength'], \"Your subset columns are not consistent with the master dataset\"\n",
    "assert len(Network_sub)==648, \"The length of your subset is not correct\"\n",
    "\n",
    "test = Network_sub.sort_values(by='Connection_Strength')\n",
    "test.reset_index(drop=True, inplace=True)\n",
    "assert test.loc[0,'Connection_Strength']==0.001315204\n",
    "assert test.loc[200,'Connection_Strength']==0.312599997\n",
    "assert test.loc[400,'Connection_Strength']==0.610184514\n",
    "assert test.loc[647,'Connection_Strength']==0.996641965\n",
    "\n",
    "print(\"\\n(Passed.)\")"
   ]
  },
  {
   "cell_type": "markdown",
   "metadata": {
    "deletable": false,
    "editable": false,
    "nbgrader": {
     "grade": false,
     "locked": true,
     "solution": false
    }
   },
   "source": [
    "Now, let's take a look at part of the `Network_sub` data."
   ]
  },
  {
   "cell_type": "code",
   "execution_count": 4,
   "metadata": {
    "deletable": false,
    "editable": false,
    "nbgrader": {
     "grade": false,
     "locked": true,
     "solution": false
    }
   },
   "outputs": [
    {
     "data": {
      "text/html": [
       "<div>\n",
       "<style scoped>\n",
       "    .dataframe tbody tr th:only-of-type {\n",
       "        vertical-align: middle;\n",
       "    }\n",
       "\n",
       "    .dataframe tbody tr th {\n",
       "        vertical-align: top;\n",
       "    }\n",
       "\n",
       "    .dataframe thead th {\n",
       "        text-align: right;\n",
       "    }\n",
       "</style>\n",
       "<table border=\"1\" class=\"dataframe\">\n",
       "  <thead>\n",
       "    <tr style=\"text-align: right;\">\n",
       "      <th></th>\n",
       "      <th>Entity A Type</th>\n",
       "      <th>Entity A</th>\n",
       "      <th>Entity B Type</th>\n",
       "      <th>Entity B</th>\n",
       "      <th>Connection_Strength</th>\n",
       "    </tr>\n",
       "  </thead>\n",
       "  <tbody>\n",
       "    <tr>\n",
       "      <th>232</th>\n",
       "      <td>Person</td>\n",
       "      <td>BRIAN BAUDREAU</td>\n",
       "      <td>Organization</td>\n",
       "      <td>THE TRUMP ORGANIZATION, INC.</td>\n",
       "      <td>0.249506</td>\n",
       "    </tr>\n",
       "    <tr>\n",
       "      <th>237</th>\n",
       "      <td>Organization</td>\n",
       "      <td>BRIARCLIFF PROPERTIES, INC.</td>\n",
       "      <td>Organization</td>\n",
       "      <td>TRUMP BRIARCLIFF MANOR DEVELOPMENT LLC</td>\n",
       "      <td>0.102998</td>\n",
       "    </tr>\n",
       "    <tr>\n",
       "      <th>238</th>\n",
       "      <td>Person</td>\n",
       "      <td>BRITTANY HEBERT</td>\n",
       "      <td>Organization</td>\n",
       "      <td>THE ERIC TRUMP FOUNDATION</td>\n",
       "      <td>0.724913</td>\n",
       "    </tr>\n",
       "    <tr>\n",
       "      <th>257</th>\n",
       "      <td>Person</td>\n",
       "      <td>CARTER PAGE</td>\n",
       "      <td>Person</td>\n",
       "      <td>DONALD J. TRUMP</td>\n",
       "      <td>0.694884</td>\n",
       "    </tr>\n",
       "    <tr>\n",
       "      <th>280</th>\n",
       "      <td>Person</td>\n",
       "      <td>CHARLES P. REISS</td>\n",
       "      <td>Organization</td>\n",
       "      <td>THE TRUMP ORGANIZATION, INC.</td>\n",
       "      <td>0.937458</td>\n",
       "    </tr>\n",
       "    <tr>\n",
       "      <th>283</th>\n",
       "      <td>Person</td>\n",
       "      <td>CHEN SITING AKA CHARLYNE CHEN</td>\n",
       "      <td>Organization</td>\n",
       "      <td>TRUMP ORGANIZATION LLC</td>\n",
       "      <td>0.137199</td>\n",
       "    </tr>\n",
       "    <tr>\n",
       "      <th>284</th>\n",
       "      <td>Organization</td>\n",
       "      <td>CHEVY CHASE TRUST HOLDINGS, INC.</td>\n",
       "      <td>Organization</td>\n",
       "      <td>TRUMP NATIONAL GOLF CLUB WASHINGTON DC LLC</td>\n",
       "      <td>0.925422</td>\n",
       "    </tr>\n",
       "    <tr>\n",
       "      <th>286</th>\n",
       "      <td>Person</td>\n",
       "      <td>CHLOE MURDOCH</td>\n",
       "      <td>Person</td>\n",
       "      <td>IVANKA TRUMP</td>\n",
       "      <td>0.805567</td>\n",
       "    </tr>\n",
       "    <tr>\n",
       "      <th>294</th>\n",
       "      <td>Person</td>\n",
       "      <td>CHRISTL MAHFOUZ</td>\n",
       "      <td>Organization</td>\n",
       "      <td>THE ERIC TRUMP FOUNDATION</td>\n",
       "      <td>0.426780</td>\n",
       "    </tr>\n",
       "    <tr>\n",
       "      <th>326</th>\n",
       "      <td>Organization</td>\n",
       "      <td>DAEWOO AMERICA DEVELOPMENT (NEW YORK) CORP</td>\n",
       "      <td>Organization</td>\n",
       "      <td>TRUMP KOREA LLC</td>\n",
       "      <td>0.994785</td>\n",
       "    </tr>\n",
       "    <tr>\n",
       "      <th>327</th>\n",
       "      <td>Organization</td>\n",
       "      <td>DAEWOO AMERICA DEVELOPMENT (NEW YORK) CORP.</td>\n",
       "      <td>Organization</td>\n",
       "      <td>TRUMP KOREA LLC</td>\n",
       "      <td>0.618116</td>\n",
       "    </tr>\n",
       "  </tbody>\n",
       "</table>\n",
       "</div>"
      ],
      "text/plain": [
       "    Entity A Type                                     Entity A Entity B Type  \\\n",
       "232        Person                               BRIAN BAUDREAU  Organization   \n",
       "237  Organization                  BRIARCLIFF PROPERTIES, INC.  Organization   \n",
       "238        Person                              BRITTANY HEBERT  Organization   \n",
       "257        Person                                  CARTER PAGE        Person   \n",
       "280        Person                             CHARLES P. REISS  Organization   \n",
       "283        Person                CHEN SITING AKA CHARLYNE CHEN  Organization   \n",
       "284  Organization             CHEVY CHASE TRUST HOLDINGS, INC.  Organization   \n",
       "286        Person                                CHLOE MURDOCH        Person   \n",
       "294        Person                              CHRISTL MAHFOUZ  Organization   \n",
       "326  Organization   DAEWOO AMERICA DEVELOPMENT (NEW YORK) CORP  Organization   \n",
       "327  Organization  DAEWOO AMERICA DEVELOPMENT (NEW YORK) CORP.  Organization   \n",
       "\n",
       "                                       Entity B  Connection_Strength  \n",
       "232                THE TRUMP ORGANIZATION, INC.             0.249506  \n",
       "237      TRUMP BRIARCLIFF MANOR DEVELOPMENT LLC             0.102998  \n",
       "238                   THE ERIC TRUMP FOUNDATION             0.724913  \n",
       "257                             DONALD J. TRUMP             0.694884  \n",
       "280                THE TRUMP ORGANIZATION, INC.             0.937458  \n",
       "283                      TRUMP ORGANIZATION LLC             0.137199  \n",
       "284  TRUMP NATIONAL GOLF CLUB WASHINGTON DC LLC             0.925422  \n",
       "286                                IVANKA TRUMP             0.805567  \n",
       "294                   THE ERIC TRUMP FOUNDATION             0.426780  \n",
       "326                             TRUMP KOREA LLC             0.994785  \n",
       "327                             TRUMP KOREA LLC             0.618116  "
      ]
     },
     "execution_count": 4,
     "metadata": {},
     "output_type": "execute_result"
    }
   ],
   "source": [
    "Network_sub.iloc[25:36]"
   ]
  },
  {
   "cell_type": "markdown",
   "metadata": {
    "deletable": false,
    "editable": false,
    "nbgrader": {
     "grade": false,
     "locked": true,
     "solution": false
    }
   },
   "source": [
    "**Exercise 1** (4 points). Write a function \n",
    "\n",
    "```python\n",
    "def Connection_Strength(Network_sub, Entity_B_Type)\n",
    "```\n",
    "\n",
    "that takes two inputs\n",
    "\n",
    "1. `Network_sub` is the dataset you get from exercise 0\n",
    "2. `Entity_B_Type` can take two values: either `Person` or `Organization`\n",
    "\n",
    "and for every entity A that is connected to entity B, based on the type of entity B, returns a nested dictionary (i.e. dictionary of dictionaries) of the form:\n",
    "\n",
    "```python \n",
    "{Entity A: {Entity B: Connection_Strength, Entity B: Connection_Strength}, ... }```\n",
    "\n",
    "For example: for entity A that is connected to entity B of type person, the function will return something like the following: \n",
    "\n",
    "```python\n",
    "{'DONALD J. TRUMP': {'DONALD TRUMP JR.': 0.453990548,\n",
    "  'ERIC TRUMP': 0.468002101,\n",
    "  'IVANKA TRUMP': 0.773874808,\n",
    "  'MARYANNE TRUMP BARRY': 0.330120053,\n",
    "  'MELANIA TRUMP': 0.5171444000000001},\n",
    " 'DONALD J. TRUMP FOR PRESIDENT, INC.': {'DONALD J. TRUMP': 0.377887355},\n",
    " 'DONALD TRUMP JR.': {'ERIC TRUMP': 0.405052388, 'VANESSA TRUMP': 0.025756815},\n",
    " 'GRACE MURDOCH': {'IVANKA TRUMP': 0.966637541},\n",
    " 'IVANKA M. TRUMP BUSINESS TRUST': {'IVANKA TRUMP': 0.141785871}, ...}```"
   ]
  },
  {
   "cell_type": "code",
   "execution_count": 13,
   "metadata": {
    "collapsed": true
   },
   "outputs": [],
   "source": [
    "def Connection_Strength(Network_sub, Entity_B_Type):\n",
    "    assert type(Entity_B_Type) == str\n",
    "    assert Entity_B_Type in ['Person', 'Organization']    \n",
    "    return Connection_Strength__1(Network_sub, Entity_B_Type)\n",
    "\n",
    "# Solution method 0:\n",
    "def Connection_Strength__0(Network_sub, Entity_B_Type):\n",
    "    filtered_subset = Network_sub[Network_sub['Entity B Type'] == Entity_B_Type]\n",
    "    nested_dict = defaultdict(dict)   \n",
    "    for _,row in filtered_subset.iterrows():\n",
    "        nested_dict[row[1]][row[3]] = row[4]      \n",
    "    return nested_dict\n",
    "\n",
    "# Solution method 1: Adapts https://stackoverflow.com/questions/35004945/python-pandas-reduce-function-for-series\n",
    "def Connection_Strength__1(Network_sub, Entity_B_Type):\n",
    "    def connect(row: pd.DataFrame):\n",
    "        from collections import defaultdict\n",
    "        a, b, w = row['Entity A'], row['Entity B'], row['Connection_Strength']\n",
    "        edge = defaultdict(dict)\n",
    "        edge[a] = {b: w}\n",
    "        return edge\n",
    "    \n",
    "    def merge(da: defaultdict, db: defaultdict):\n",
    "        dc = da.copy()\n",
    "        for b in db:\n",
    "            dc[b] = {**dc[b], **db[b]}\n",
    "        return dc\n",
    "    \n",
    "    from functools import reduce\n",
    "    is_b_type = Network_sub['Entity B Type'] == Entity_B_Type\n",
    "    filtered_network = Network_sub[is_b_type]\n",
    "    connections = filtered_network.apply(connect, axis=1)\n",
    "    return reduce(merge, connections)"
   ]
  },
  {
   "cell_type": "code",
   "execution_count": 14,
   "metadata": {
    "deletable": false,
    "editable": false,
    "nbgrader": {
     "grade": true,
     "grade_id": "Connection_Strength",
     "locked": true,
     "points": "4",
     "solution": false
    }
   },
   "outputs": [
    {
     "name": "stdout",
     "output_type": "stream",
     "text": [
      "\n",
      "(Passed.)\n"
     ]
    }
   ],
   "source": [
    "# Test Cell: `Connection_Strength`\n",
    "\n",
    "# Create a dictonary 'Person' for entity B of type person\n",
    "Person = Connection_Strength(Network_sub, 'Person')\n",
    "# Create a dictionary 'Organization' for entity B of type organization\n",
    "Organization = Connection_Strength(Network_sub, 'Organization')\n",
    "\n",
    "assert type(Person)==dict or defaultdict, \"Your function does not return a dictionary\"\n",
    "assert len(Person)==17, \"Your result is wrong for entity B of type person\"\n",
    "assert len(Organization)==296, \"Your result is wrong for entity B of type organization\"\n",
    "\n",
    "assert Person['DONALD J. TRUMP']=={'DONALD TRUMP JR.': 0.453990548,'ERIC TRUMP': 0.468002101,'IVANKA TRUMP': 0.773874808,\n",
    "  'MARYANNE TRUMP BARRY': 0.330120053,'MELANIA TRUMP': 0.5171444000000001}, \"Wrong result\"\n",
    "assert Person['DONALD J. TRUMP FOR PRESIDENT, INC.']=={'DONALD J. TRUMP': 0.377887355}, \"Wrong result\"\n",
    "assert Person['WENDI DENG MURDOCH']=={'IVANKA TRUMP': 0.669636181}, \"Wrong result\"\n",
    "\n",
    "assert Organization['401 MEZZ VENTURE LLC']=={'TRUMP CHICAGO RETAIL LLC': 0.85298544}, \"Wrong result\"\n",
    "assert Organization['ACE ENTERTAINMENT HOLDINGS INC']=={'TRUMP CASINOS INC.': 0.202484568,'TRUMP TAJ MAHAL INC.': 0.48784823299999996}, \"Wrong result\"\n",
    "assert Organization['ANDREW JOBLON']=={'THE ERIC TRUMP FOUNDATION': 0.629688777}, \"Wrong result\"\n",
    "\n",
    "print(\"\\n(Passed.)\")"
   ]
  },
  {
   "cell_type": "markdown",
   "metadata": {
    "deletable": false,
    "editable": false,
    "nbgrader": {
     "grade": false,
     "locked": true,
     "solution": false
    }
   },
   "source": [
    "**Exercise 2** (1 point). For the dictionary `Organization` **created in the above test cell**, create another dictionary `Organization_avg` which for every entity A gives the average connection strength (i.e., the average of nested dictionary values). `Organization_avg` should be in the following form:\n",
    "```python\n",
    "{Entity A: avg_Connection_Strength, Entity A: avg_Connection_Strength, ... }```\n"
   ]
  },
  {
   "cell_type": "code",
   "execution_count": 15,
   "metadata": {
    "collapsed": true
   },
   "outputs": [],
   "source": [
    "### BEGIN SOLUTION\n",
    "# Solution 0:\n",
    "def ex2_soln__0():\n",
    "    Organization_avg = defaultdict()\n",
    "    for k,v in Organization.items():\n",
    "        Organization_avg[k] = np.mean(list(v.values()))\n",
    "    return Organization_avg\n",
    "\n",
    "#Solution 1:\n",
    "def ex2_soln__1():\n",
    "    Organization_avg = {}\n",
    "    for a, da in Organization.items():\n",
    "        Organization_avg[a] = sum(da.values()) / len(da)\n",
    "    return Organization_avg\n",
    "\n",
    "Organization_avg = ex2_soln__0()\n",
    "### END SOLUTION"
   ]
  },
  {
   "cell_type": "code",
   "execution_count": 16,
   "metadata": {
    "deletable": false,
    "editable": false,
    "nbgrader": {
     "grade": true,
     "grade_id": "Organization_avg",
     "locked": true,
     "points": "1",
     "solution": false
    }
   },
   "outputs": [
    {
     "name": "stdout",
     "output_type": "stream",
     "text": [
      "401 MEZZ VENTURE LLC 0.85298544 0.85298544\n",
      "DJT HOLDINGS LLC 0.5855800477222223 0.5855800477222223\n",
      "DONALD J. TRUMP 0.4878277050144927 0.4878277050144927\n",
      "JAMES BURNHAM 0.187474088 0.187474088\n",
      "\n",
      "(Passed.)\n"
     ]
    }
   ],
   "source": [
    "# Test Cell: `Organization_avg`\n",
    "assert type(Organization_avg)==dict or defaultdict, \"Organization_avg is not a dictionary\"\n",
    "assert len(Organization_avg)==len(Organization)\n",
    "\n",
    "for k_, v_ in {'401 MEZZ VENTURE LLC': 0.85298544,\n",
    "               'DJT HOLDINGS LLC': 0.5855800477222223,\n",
    "               'DONALD J. TRUMP': 0.4878277050144927,\n",
    "               'JAMES BURNHAM': 0.187474088}.items():\n",
    "    print(k_, Organization_avg[k_], v_)\n",
    "    assert math.isclose(Organization_avg[k_], v_, rel_tol=4e-15*len(Organization[k_])), \\\n",
    "           \"Wrong result for '{}': Expected {}, got {}\".format(k_, v_, Organization_avg[k_])\n",
    "\n",
    "print(\"\\n(Passed.)\")"
   ]
  },
  {
   "cell_type": "markdown",
   "metadata": {
    "deletable": false,
    "editable": false,
    "nbgrader": {
     "grade": false,
     "locked": true,
     "solution": false
    }
   },
   "source": [
    "**Exercise 3** (4 points). Based on the `Organization_avg` dictionary you just created, determine which organizations have an average connection strength that is strictly greater than a given threshold, `THRESHOLD` (defined in the code cell below). Then, create a new data frame named `Network_strong` that has a subset of the rows of `Network_sub` whose `Entity A` values match these organizations **and** whose `\"Entity B Type\"` equals `\"Organization\"`."
   ]
  },
  {
   "cell_type": "code",
   "execution_count": 18,
   "metadata": {
    "collapsed": true
   },
   "outputs": [],
   "source": [
    "THRESHOLD = 0.5\n",
    "#Solution 0:\n",
    "def ex3_sol_0():\n",
    "    names=[k for k, v in Organization_avg.items() if v > THRESHOLD]\n",
    "    organization_sub = Network_sub[Network_sub['Entity B Type'] == 'Organization']\n",
    "    return organization_sub[organization_sub['Entity A'].isin(names)]\n",
    "\n",
    "#Solution 1:\n",
    "def ex3_sol_1():\n",
    "    strong_orgs = [name for name, strength in Organization_avg.items() if strenght > THRESHOLD ]\n",
    "    def strong_condition(row):\n",
    "        is_strong = row['Entity A'] in strong_orgs\n",
    "        is_B_org = row['Entity B Type'] == 'Organization'\n",
    "        return is_strong and is_B_org\n",
    "    is_strong = Network_sub.apply(strength_condition, axis=1)\n",
    "    return Network_sub[is_strong]\n",
    "\n",
    "Network_strong = ex3_sol_0()\n"
   ]
  },
  {
   "cell_type": "code",
   "execution_count": 19,
   "metadata": {
    "deletable": false,
    "editable": false,
    "nbgrader": {
     "grade": true,
     "grade_id": "Network_strong",
     "locked": true,
     "points": "4",
     "solution": false
    }
   },
   "outputs": [
    {
     "name": "stdout",
     "output_type": "stream",
     "text": [
      "\n",
      "(Passed.)\n"
     ]
    }
   ],
   "source": [
    "# Test Cell: `Network_strong`\n",
    "assert type(Network_strong)==pd.DataFrame, \"Network_strong is not a panda dataframe\"\n",
    "assert list(Network_strong)==['Entity A Type','Entity A','Entity B Type','Entity B','Connection_Strength'], \"Your Network_strong columns are not consistent with the master dataset\"\n",
    "assert len(Network_strong)==194, \"The length of your Network_strong is not correct. Correct length should be 194.\"\n",
    "test2 = Network_strong.sort_values(by='Connection_Strength')\n",
    "test2.reset_index(drop=True, inplace=True)\n",
    "assert math.isclose(test2.loc[0, 'Connection_Strength'], 0.039889119, rel_tol=1e-13)\n",
    "assert math.isclose(test2.loc[100, 'Connection_Strength'], 0.744171895, rel_tol=1e-13)\n",
    "assert math.isclose(test2.loc[193, 'Connection_Strength'], 0.996641965, rel_tol=1e-13)\n",
    "\n",
    "print(\"\\n(Passed.)\")"
   ]
  },
  {
   "cell_type": "markdown",
   "metadata": {
    "collapsed": true,
    "deletable": false,
    "editable": false,
    "nbgrader": {
     "grade": false,
     "locked": true,
     "solution": false
    }
   },
   "source": [
    "**Fin!** Remember to test your solutions by running them as the autograder will: restart the kernel and run all cells from \"top-to-bottom.\" Also remember to submit to the autograder; otherwise, you will **not** get credit for your hard work!"
   ]
  }
 ],
 "metadata": {
  "kernel_info": {
   "name": "python3"
  },
  "kernelspec": {
   "display_name": "Python 3.7",
   "language": "python",
   "name": "python37"
  },
  "language_info": {
   "codemirror_mode": {
    "name": "ipython",
    "version": 3
   },
   "file_extension": ".py",
   "mimetype": "text/x-python",
   "name": "python",
   "nbconvert_exporter": "python",
   "pygments_lexer": "ipython3",
   "version": "3.7.5"
  },
  "nteract": {
   "version": "0.11.9"
  }
 },
 "nbformat": 4,
 "nbformat_minor": 2
}
