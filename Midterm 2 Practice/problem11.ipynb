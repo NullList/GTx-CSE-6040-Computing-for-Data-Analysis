{
 "cells": [
  {
   "cell_type": "markdown",
   "metadata": {
    "deletable": false,
    "editable": false,
    "nbgrader": {
     "grade": false,
     "locked": true,
     "solution": false
    }
   },
   "source": [
    "# Problem 11: Gravity simulation"
   ]
  },
  {
   "cell_type": "markdown",
   "metadata": {
    "deletable": false,
    "editable": false,
    "nbgrader": {
     "grade": false,
     "locked": true,
     "solution": false
    }
   },
   "source": [
    "This problem is about simulating the motion of particles under the influence of their mutual gravitational forces.\n",
    "\n",
    "You don't need to know physics to solve this problem. We will give you equations that describe the motion of the particles. You need to implement them using matrices and vectors.\n",
    "\n",
    "The exercise intends to test you on your understanding of Numpy. For most problems, we will be giving a naive solution in the test cells. Your solution needs to give the same answers, but what we will assess is the speed of your code. For all these problems, there is a much faster implementation using ideas like broadcasting and vector products that are available in Numpy.\n",
    "\n",
    "**Grading.** Since we are giving you baseline solutions, we will grade your code by its speed. In particular, **when run on Vocareum**, your solutions need to be faster by a factor of 10 (at least) than the baselines to get credit.\n",
    "\n",
    "The code developed here can be used to simulate the trajectory of points in 2D space and similar ideas extend to 3D space as well. Similar ideas extend to data analysis and visualization problems, such as computing pairwise correlations, [k-nearest neighbors](https://en.wikipedia.org/wiki/K-nearest_neighbors_algorithm), and [force-directed graph layout](https://en.wikipedia.org/wiki/Force-directed_graph_drawing), to name a few. The exercises herein should convince you of the importance of writing efficient code and how Numpy can help you achieve that."
   ]
  },
  {
   "cell_type": "markdown",
   "metadata": {
    "deletable": false,
    "editable": false,
    "nbgrader": {
     "grade": false,
     "locked": true,
     "solution": false
    }
   },
   "source": [
    "**Physics 101.** Here are the terms you need to know for this problem. Again, we will assume space is two-dimensional (2-D).\n",
    "\n",
    "0. You are simulating how a system of particles moves in relation to one another. Suppose there are $n$ particles. Each particle, $P_i$, will have the following attributes:\n",
    "    - A **mass**, $m_i$, which is a measure of how \"hefty\" a particle is.\n",
    "    - A **position**, which is a pair of 2-D coordinates, $(x_i, y_i)$, that tells you where the particle is in space.\n",
    "    - A **velocity**, which is a vector $v_i \\equiv (v_{i,x}, v_{i,y})$, that tells you how fast the particle is going and in what direction. The length of a particle's velocity, $\\sqrt{v_{i,x}^2 + v_{i,y}^2}$, tells you its speed.\n",
    "    \n",
    "1. The position and velocity change over time. In your simulation, time will move forward in small discrete steps, $\\Delta t$.\n",
    "\n",
    "2. Each particle feels a **force** from each of the other particles. The force of gravity is \"attractive,\" meaning that the force a particle feels from each of the others is a little \"tug\" or \"pull.\" These pulls are what make the planets of the solar system or stars in a galaxy move around one another.\n",
    "\n",
    "3. The force that $P_i$ feels from $P_j$ is a vector. Its magnitude is the product of the particles' masses, $m_i$ and $m_j$, divided by the squared distance between them, $r_{ij}^2$, that is, $F_{ij} = \\frac{m_i m_j}{r_{ij}^2}$. The direction points from $i$ to $j$.\n",
    "\n",
    "4. The **net force** on a particle is the vector sum of the forces acting on it from all other particles.\n",
    "\n",
    "5. The net force changes the velocity of the particle.\n",
    "\n",
    "6. The position of the particle changes at each time step depending on its velocity.\n",
    "\n",
    "With these specifications, you can now try to simulate the motion of the particles. "
   ]
  },
  {
   "cell_type": "code",
   "execution_count": 1,
   "metadata": {
    "collapsed": true,
    "deletable": false,
    "editable": false,
    "nbgrader": {
     "grade": false,
     "locked": true,
     "solution": false
    }
   },
   "outputs": [],
   "source": [
    "# Importing dependencies\n",
    "import numpy as np\n",
    "import matplotlib.pyplot as plt\n",
    "import time\n",
    "%matplotlib inline"
   ]
  },
  {
   "cell_type": "markdown",
   "metadata": {
    "deletable": false,
    "editable": false,
    "nbgrader": {
     "grade": false,
     "locked": true,
     "solution": false
    }
   },
   "source": [
    "**Exercise 0** (2 points). Complete the function **`pairwise_dist`** below.\n",
    "\n",
    "Given the position of each particle as coordinates $(x, y)$, find the pairwise distance between each pair of particles. In particular, given the positions of $n$ particles, your function should return a $n \\times n$ matrix $D$ where each element, $d_{ij}$, is the distance between particles $i$ and $j$.\n",
    "\n",
    "Remember that the distance between two points $(x_{1}, y_{1})$ and $(x_{2}, y_{2})$ is given by $((x_{1}-x_{2})^2 + (y_{1} - y_{2})^2)^{1/2}$. This is called the vector norm.\n",
    "\n",
    "Note, that the test cell offers a naive way of solving the problem. Your code will be tested for accuracy and speed. Your solution needs to be at least **10x** faster than the naive solution provided in the test code for a problem that has 200 particles (as implemented in the test cell).\n",
    "\n",
    "> Hint: The function **`np.linalg.norm`** may help you in this exercise."
   ]
  },
  {
   "cell_type": "markdown",
   "metadata": {
    "deletable": false,
    "editable": false,
    "nbgrader": {
     "grade": false,
     "locked": true,
     "solution": false
    }
   },
   "source": [
    "_Example_. The rows in the matrix `X` represent the coordinates of points. Row `i` (i.e., `X[i,:]`) represents the coordinates of the `i`-th point.\n",
    "\n",
    "The matrix `D` represents the distance matrix between each pair of points. Your task in this exercise is to calculate `D` given `X`."
   ]
  },
  {
   "cell_type": "code",
   "execution_count": 2,
   "metadata": {
    "collapsed": true,
    "deletable": false,
    "editable": false,
    "nbgrader": {
     "grade": false,
     "locked": true,
     "solution": false
    }
   },
   "outputs": [],
   "source": [
    "# Example\n",
    "\n",
    "X = np.array([[ 3, 4],\n",
    "              [-3, 4],\n",
    "              [ 0, 0]])\n",
    "\n",
    "D = np.array([[0, 6, 5],\n",
    "              [6, 0, 5],\n",
    "              [5, 5, 0]])"
   ]
  },
  {
   "cell_type": "code",
   "execution_count": 7,
   "metadata": {
    "collapsed": true
   },
   "outputs": [],
   "source": [
    "def pairwise_dist(X):\n",
    "    r, c = X.shape\n",
    "    D = np.hstack([np.reshape(np.linalg.norm(X-X[i], axis =1) , (r, 1)) for i in range(r)])\n",
    "    return D\n"
   ]
  },
  {
   "cell_type": "code",
   "execution_count": 8,
   "metadata": {
    "collapsed": true,
    "deletable": false,
    "editable": false,
    "nbgrader": {
     "grade": false,
     "locked": true,
     "solution": false
    }
   },
   "outputs": [],
   "source": [
    "# helper functions\n",
    "def initialize_system(n=10):\n",
    "    X = np.random.uniform(1, 2, size=(n,2))\n",
    "    V = np.random.uniform(-1, 1, size=(n,2))\n",
    "    m = np.random.uniform(0.1, 2, size=(n))\n",
    "    return n, m, X, V"
   ]
  },
  {
   "cell_type": "code",
   "execution_count": 9,
   "metadata": {
    "collapsed": true,
    "deletable": false,
    "editable": false,
    "nbgrader": {
     "grade": false,
     "locked": true,
     "solution": false
    }
   },
   "outputs": [],
   "source": [
    "# Sample solution\n",
    "def soln_ex0(X):\n",
    "    r, c = X.shape\n",
    "    D_test = np.zeros((r, r))\n",
    "    for i in range(r):\n",
    "        for j in range(r):\n",
    "            vec = X[i] - X[j]\n",
    "            val = np.sqrt(np.dot(vec, vec))\n",
    "            D_test[i, j] = val\n",
    "    return D_test"
   ]
  },
  {
   "cell_type": "code",
   "execution_count": 10,
   "metadata": {
    "nbgrader": {
     "grade": false,
     "grade_id": "test_distances",
     "locked": false,
     "points": "2",
     "solution": false
    }
   },
   "outputs": [
    {
     "name": "stdout",
     "output_type": "stream",
     "text": [
      "[[0.         0.10659466 0.58807115 ... 0.70706327 0.5183321  0.30003137]\n",
      " [0.10659466 0.         0.48153565 ... 0.60376926 0.4117384  0.21614678]\n",
      " [0.58807115 0.48153565 0.         ... 0.20536349 0.07124166 0.35902102]\n",
      " ...\n",
      " [0.70706327 0.60376926 0.20536349 ... 0.         0.23576573 0.53591135]\n",
      " [0.5183321  0.4117384  0.07124166 ... 0.23576573 0.         0.30377025]\n",
      " [0.30003137 0.21614678 0.35902102 ... 0.53591135 0.30377025 0.        ]]\n",
      "[[0.         0.10659466 0.58807115 ... 0.70706327 0.5183321  0.30003137]\n",
      " [0.10659466 0.         0.48153565 ... 0.60376926 0.4117384  0.21614678]\n",
      " [0.58807115 0.48153565 0.         ... 0.20536349 0.07124166 0.35902102]\n",
      " ...\n",
      " [0.70706327 0.60376926 0.20536349 ... 0.         0.23576573 0.53591135]\n",
      " [0.5183321  0.4117384  0.07124166 ... 0.23576573 0.         0.30377025]\n",
      " [0.30003137 0.21614678 0.35902102 ... 0.53591135 0.30377025 0.        ]]\n",
      "[[0.         0.45884275 0.60952482 ... 0.3358866  0.43583207 0.19772741]\n",
      " [0.45884275 0.         0.60630623 ... 0.32596161 0.8202232  0.58861843]\n",
      " [0.60952482 0.60630623 0.         ... 0.3245295  0.58369833 0.80511002]\n",
      " ...\n",
      " [0.3358866  0.32596161 0.3245295  ... 0.         0.53937047 0.53064547]\n",
      " [0.43583207 0.8202232  0.58369833 ... 0.53937047 0.         0.52267672]\n",
      " [0.19772741 0.58861843 0.80511002 ... 0.53064547 0.52267672 0.        ]]\n",
      "[[0.         0.45884275 0.60952482 ... 0.3358866  0.43583207 0.19772741]\n",
      " [0.45884275 0.         0.60630623 ... 0.32596161 0.8202232  0.58861843]\n",
      " [0.60952482 0.60630623 0.         ... 0.3245295  0.58369833 0.80511002]\n",
      " ...\n",
      " [0.3358866  0.32596161 0.3245295  ... 0.         0.53937047 0.53064547]\n",
      " [0.43583207 0.8202232  0.58369833 ... 0.53937047 0.         0.52267672]\n",
      " [0.19772741 0.58861843 0.80511002 ... 0.53064547 0.52267672 0.        ]]\n",
      "[[0.         0.30511597 0.30461507 ... 0.54295378 0.42183622 0.58507509]\n",
      " [0.30511597 0.         0.57856128 ... 0.84550347 0.70622572 0.68238662]\n",
      " [0.30461507 0.57856128 0.         ... 0.30692398 0.13002321 0.78972889]\n",
      " ...\n",
      " [0.54295378 0.84550347 0.30692398 ... 0.         0.19585127 0.82837233]\n",
      " [0.42183622 0.70622572 0.13002321 ... 0.19585127 0.         0.8441774 ]\n",
      " [0.58507509 0.68238662 0.78972889 ... 0.82837233 0.8441774  0.        ]]\n",
      "[[0.         0.30511597 0.30461507 ... 0.54295378 0.42183622 0.58507509]\n",
      " [0.30511597 0.         0.57856128 ... 0.84550347 0.70622572 0.68238662]\n",
      " [0.30461507 0.57856128 0.         ... 0.30692398 0.13002321 0.78972889]\n",
      " ...\n",
      " [0.54295378 0.84550347 0.30692398 ... 0.         0.19585127 0.82837233]\n",
      " [0.42183622 0.70622572 0.13002321 ... 0.19585127 0.         0.8441774 ]\n",
      " [0.58507509 0.68238662 0.78972889 ... 0.82837233 0.8441774  0.        ]]\n",
      "[[0.         0.1218125  0.91276941 ... 0.39733622 0.96460034 0.68035925]\n",
      " [0.1218125  0.         0.91590825 ... 0.44572384 0.97045527 0.65862718]\n",
      " [0.91276941 0.91590825 0.         ... 0.54842931 0.05728337 0.29321918]\n",
      " ...\n",
      " [0.39733622 0.44572384 0.54842931 ... 0.         0.59414519 0.39618241]\n",
      " [0.96460034 0.97045527 0.05728337 ... 0.59414519 0.         0.35027558]\n",
      " [0.68035925 0.65862718 0.29321918 ... 0.39618241 0.35027558 0.        ]]\n",
      "[[0.         0.1218125  0.91276941 ... 0.39733622 0.96460034 0.68035925]\n",
      " [0.1218125  0.         0.91590825 ... 0.44572384 0.97045527 0.65862718]\n",
      " [0.91276941 0.91590825 0.         ... 0.54842931 0.05728337 0.29321918]\n",
      " ...\n",
      " [0.39733622 0.44572384 0.54842931 ... 0.         0.59414519 0.39618241]\n",
      " [0.96460034 0.97045527 0.05728337 ... 0.59414519 0.         0.35027558]\n",
      " [0.68035925 0.65862718 0.29321918 ... 0.39618241 0.35027558 0.        ]]\n",
      "[[0.         0.52934284 0.36646801 ... 0.61510245 0.23084832 0.65133099]\n",
      " [0.52934284 0.         0.4158695  ... 0.43093096 0.53187265 0.15805358]\n",
      " [0.36646801 0.4158695  0.         ... 0.25742568 0.19037747 0.57390385]\n",
      " ...\n",
      " [0.61510245 0.43093096 0.25742568 ... 0.         0.444874   0.56853182]\n",
      " [0.23084832 0.53187265 0.19037747 ... 0.444874   0.         0.68288745]\n",
      " [0.65133099 0.15805358 0.57390385 ... 0.56853182 0.68288745 0.        ]]\n",
      "[[0.         0.52934284 0.36646801 ... 0.61510245 0.23084832 0.65133099]\n",
      " [0.52934284 0.         0.4158695  ... 0.43093096 0.53187265 0.15805358]\n",
      " [0.36646801 0.4158695  0.         ... 0.25742568 0.19037747 0.57390385]\n",
      " ...\n",
      " [0.61510245 0.43093096 0.25742568 ... 0.         0.444874   0.56853182]\n",
      " [0.23084832 0.53187265 0.19037747 ... 0.444874   0.         0.68288745]\n",
      " [0.65133099 0.15805358 0.57390385 ... 0.56853182 0.68288745 0.        ]]\n",
      "[[0.         0.22805182 0.59958293 ... 0.64414159 0.66500023 0.65271961]\n",
      " [0.22805182 0.         0.64107489 ... 0.42904488 0.57532533 0.72715206]\n",
      " [0.59958293 0.64107489 0.         ... 0.7510458  0.35886087 0.12048724]\n",
      " ...\n",
      " [0.64414159 0.42904488 0.7510458  ... 0.         0.46688547 0.86875152]\n",
      " [0.66500023 0.57532533 0.35886087 ... 0.46688547 0.         0.47628042]\n",
      " [0.65271961 0.72715206 0.12048724 ... 0.86875152 0.47628042 0.        ]]\n",
      "[[0.         0.22805182 0.59958293 ... 0.64414159 0.66500023 0.65271961]\n",
      " [0.22805182 0.         0.64107489 ... 0.42904488 0.57532533 0.72715206]\n",
      " [0.59958293 0.64107489 0.         ... 0.7510458  0.35886087 0.12048724]\n",
      " ...\n",
      " [0.64414159 0.42904488 0.7510458  ... 0.         0.46688547 0.86875152]\n",
      " [0.66500023 0.57532533 0.35886087 ... 0.46688547 0.         0.47628042]\n",
      " [0.65271961 0.72715206 0.12048724 ... 0.86875152 0.47628042 0.        ]]\n",
      "[[0.         0.26093254 0.94829684 ... 0.11662497 0.53409298 0.55362456]\n",
      " [0.26093254 0.         0.73924296 ... 0.1504443  0.28640612 0.49641405]\n",
      " [0.94829684 0.73924296 0.         ... 0.87092189 0.6841288  0.56090523]\n",
      " ...\n",
      " [0.11662497 0.1504443  0.87092189 ... 0.         0.41748117 0.54085874]\n",
      " [0.53409298 0.28640612 0.6841288  ... 0.41748117 0.         0.67662456]\n",
      " [0.55362456 0.49641405 0.56090523 ... 0.54085874 0.67662456 0.        ]]\n",
      "[[0.         0.26093254 0.94829684 ... 0.11662497 0.53409298 0.55362456]\n",
      " [0.26093254 0.         0.73924296 ... 0.1504443  0.28640612 0.49641405]\n",
      " [0.94829684 0.73924296 0.         ... 0.87092189 0.6841288  0.56090523]\n",
      " ...\n",
      " [0.11662497 0.1504443  0.87092189 ... 0.         0.41748117 0.54085874]\n",
      " [0.53409298 0.28640612 0.6841288  ... 0.41748117 0.         0.67662456]\n",
      " [0.55362456 0.49641405 0.56090523 ... 0.54085874 0.67662456 0.        ]]\n",
      "[[0.         0.48530501 0.59305706 ... 0.67358886 0.94257669 0.51827105]\n",
      " [0.48530501 0.         0.7034717  ... 0.75458407 0.64567895 0.34547684]\n",
      " [0.59305706 0.7034717  0.         ... 0.08185519 0.6334471  0.39245719]\n",
      " ...\n",
      " [0.67358886 0.75458407 0.08185519 ... 0.         0.60838556 0.4269655 ]\n",
      " [0.94257669 0.64567895 0.6334471  ... 0.60838556 0.         0.42439501]\n",
      " [0.51827105 0.34547684 0.39245719 ... 0.4269655  0.42439501 0.        ]]\n",
      "[[0.         0.48530501 0.59305706 ... 0.67358886 0.94257669 0.51827105]\n",
      " [0.48530501 0.         0.7034717  ... 0.75458407 0.64567895 0.34547684]\n",
      " [0.59305706 0.7034717  0.         ... 0.08185519 0.6334471  0.39245719]\n",
      " ...\n",
      " [0.67358886 0.75458407 0.08185519 ... 0.         0.60838556 0.4269655 ]\n",
      " [0.94257669 0.64567895 0.6334471  ... 0.60838556 0.         0.42439501]\n",
      " [0.51827105 0.34547684 0.39245719 ... 0.4269655  0.42439501 0.        ]]\n",
      "[[0.         0.75746536 1.17253436 ... 0.89415521 0.85194781 1.19642165]\n",
      " [0.75746536 0.         0.47260551 ... 0.14148413 0.49976732 0.64165915]\n",
      " [1.17253436 0.47260551 0.         ... 0.34299256 0.49560981 0.30372832]\n",
      " ...\n",
      " [0.89415521 0.14148413 0.34299256 ... 0.         0.49798145 0.55367434]\n",
      " [0.85194781 0.49976732 0.49560981 ... 0.49798145 0.         0.36652651]\n",
      " [1.19642165 0.64165915 0.30372832 ... 0.55367434 0.36652651 0.        ]]\n",
      "[[0.         0.75746536 1.17253436 ... 0.89415521 0.85194781 1.19642165]\n",
      " [0.75746536 0.         0.47260551 ... 0.14148413 0.49976732 0.64165915]\n",
      " [1.17253436 0.47260551 0.         ... 0.34299256 0.49560981 0.30372832]\n",
      " ...\n",
      " [0.89415521 0.14148413 0.34299256 ... 0.         0.49798145 0.55367434]\n",
      " [0.85194781 0.49976732 0.49560981 ... 0.49798145 0.         0.36652651]\n",
      " [1.19642165 0.64165915 0.30372832 ... 0.55367434 0.36652651 0.        ]]\n",
      "[[0.         0.1705999  0.69023745 ... 0.61208927 0.19649889 0.17473737]\n",
      " [0.1705999  0.         0.52371587 ... 0.60412271 0.36403679 0.22519975]\n",
      " [0.69023745 0.52371587 0.         ... 0.92416196 0.88637475 0.7187808 ]\n",
      " ...\n",
      " [0.61208927 0.60412271 0.92416196 ... 0.         0.6291946  0.43751579]\n",
      " [0.19649889 0.36403679 0.88637475 ... 0.6291946  0.         0.24835361]\n",
      " [0.17473737 0.22519975 0.7187808  ... 0.43751579 0.24835361 0.        ]]\n",
      "[[0.         0.1705999  0.69023745 ... 0.61208927 0.19649889 0.17473737]\n",
      " [0.1705999  0.         0.52371587 ... 0.60412271 0.36403679 0.22519975]\n",
      " [0.69023745 0.52371587 0.         ... 0.92416196 0.88637475 0.7187808 ]\n",
      " ...\n",
      " [0.61208927 0.60412271 0.92416196 ... 0.         0.6291946  0.43751579]\n",
      " [0.19649889 0.36403679 0.88637475 ... 0.6291946  0.         0.24835361]\n",
      " [0.17473737 0.22519975 0.7187808  ... 0.43751579 0.24835361 0.        ]]\n",
      "Your soln is 48.40404624466082x faster than the sample solution (Needs to be at least 10x faster)\n",
      "Passed!\n"
     ]
    }
   ],
   "source": [
    "# test_distances\n",
    "def check_soln0():\n",
    "    time_ratio = []\n",
    "    for _ in range(10):\n",
    "        n = 200\n",
    "        X = np.random.rand(n, 2)\n",
    "        t0_test = time.time()\n",
    "        D_test = soln_ex0(X)\n",
    "        print(D_test)\n",
    "        \n",
    "        t1_test = time.time()\n",
    "        D_student = pairwise_dist(X)\n",
    "        print(D_student)\n",
    "        t2_student = time.time()\n",
    "        err = np.linalg.norm(D_student - D_test, ord='fro')\n",
    "        assert err <= 1e-8, \"Your solution does not have the correct distance values\"\n",
    "        time_naive = t1_test - t0_test + 1e-10\n",
    "        time_student = t2_student - t1_test + 1e-10\n",
    "        r = time_naive/time_student\n",
    "        time_ratio.append(r)\n",
    "    return time_ratio\n",
    "\n",
    "time_ratio = check_soln0()\n",
    "mean_ratio = np.mean(time_ratio)\n",
    "msg = \"Your soln is {}x faster than the sample solution (Needs to be at least 10x faster)\".format(mean_ratio)\n",
    "assert mean_ratio >= 10, msg\n",
    "print(msg)\n",
    "print(\"Passed!\")"
   ]
  },
  {
   "cell_type": "markdown",
   "metadata": {
    "deletable": false,
    "editable": false,
    "nbgrader": {
     "grade": false,
     "locked": true,
     "solution": false
    }
   },
   "source": [
    "**Exercise 1** (2 points). Complete the function **`mass_products`** below.\n",
    "\n",
    "Given the mass of the n particles, create a **n x n** matrix **M** such that each ith, jth element of the matrix is the product of masses i and j. You need to complete the mass_products function below.\n",
    "\n",
    "The test cell contains a naive solution. Your solution must produce the same answer and also be at least 10x faster."
   ]
  },
  {
   "cell_type": "code",
   "execution_count": 23,
   "metadata": {
    "collapsed": true
   },
   "outputs": [],
   "source": [
    "def mass_products(m):\n",
    "    M = np.outer(m, m)\n",
    "    return M"
   ]
  },
  {
   "cell_type": "code",
   "execution_count": 24,
   "metadata": {
    "collapsed": true,
    "deletable": false,
    "editable": false,
    "nbgrader": {
     "grade": false,
     "locked": true,
     "solution": false
    }
   },
   "outputs": [],
   "source": [
    "# sample solution\n",
    "def soln_ex1(m):\n",
    "    n = len(m)\n",
    "    M = np.zeros((n, n))\n",
    "    for i in range(n):\n",
    "        for j in range(n):\n",
    "            M[i, j] = m[i] * m[j]\n",
    "    return M"
   ]
  },
  {
   "cell_type": "code",
   "execution_count": 25,
   "metadata": {
    "deletable": false,
    "editable": false,
    "nbgrader": {
     "grade": true,
     "grade_id": "test_products",
     "locked": true,
     "points": "2",
     "solution": false
    }
   },
   "outputs": [
    {
     "name": "stdout",
     "output_type": "stream",
     "text": [
      "Your soln is 328.132576433202x faster than the sample solution (Needs to be at least 10x faster)\n",
      "Passed!\n"
     ]
    }
   ],
   "source": [
    "# test_products\n",
    "def check_soln1():\n",
    "    time_ratio = []\n",
    "    for _ in range(10):\n",
    "        n = 200\n",
    "        m = np.random.rand(n)\n",
    "        t0_test = time.time()\n",
    "        M_test = soln_ex1(m)\n",
    "        t1_test = time.time()\n",
    "        M_student = mass_products(m)\n",
    "        t2_student = time.time()\n",
    "        err = np.linalg.norm(M_student - M_test, ord='fro')\n",
    "        assert err <= 1e-8, \"Your solution does not have the correct values\"\n",
    "        time_naive = t1_test - t0_test + 1e-10\n",
    "        time_student = t2_student - t1_test + 1e-10\n",
    "        r = time_naive/time_student\n",
    "        time_ratio.append(r)\n",
    "    return time_ratio\n",
    "\n",
    "time_ratio = check_soln1()\n",
    "mean_ratio = np.mean(time_ratio)\n",
    "msg = \"Your soln is {}x faster than the sample solution (Needs to be at least 10x faster)\".format(mean_ratio)\n",
    "assert mean_ratio >= 10, msg\n",
    "print(msg)\n",
    "print(\"Passed!\")"
   ]
  },
  {
   "cell_type": "markdown",
   "metadata": {
    "deletable": false,
    "editable": false,
    "nbgrader": {
     "grade": false,
     "locked": true,
     "solution": false
    }
   },
   "source": [
    "**Exercise 2** (2 points). Complete the function **`forces`** below.\n",
    "\n",
    "Now we need to find the forces between each pair of particles. Remember that all particles attract all other particles by a force given by the relation,\n",
    "\n",
    "$$F_{12} = \\frac{m_{1}m_{2}}{r_{12}^{2}}.$$\n",
    "\n",
    "Given a matrix `M`, which contains the product of all pairwise masses, and the pairwise distance matrix `D`, calculate the `F` matrix by dividing the `M` matrix by squared values from the `D` matrix. We will regard a particle as not exerting a force on itself; therefore, **the diagonal values of the output need to be zero.** Your solution needs to be at least **10x** faster than what has been provided in the sample solution."
   ]
  },
  {
   "cell_type": "code",
   "execution_count": 26,
   "metadata": {
    "collapsed": true
   },
   "outputs": [],
   "source": [
    "def forces(M, D):\n",
    "    D_2 = D**2\n",
    "    D_2 += np.eye(D.shape[0])\n",
    "    F = (M-np.diag(np.diag(M)))/D_2\n",
    "    return F"
   ]
  },
  {
   "cell_type": "code",
   "execution_count": 27,
   "metadata": {
    "collapsed": true,
    "deletable": false,
    "editable": false,
    "nbgrader": {
     "grade": false,
     "locked": true,
     "solution": false
    }
   },
   "outputs": [],
   "source": [
    "# Sample solution\n",
    "def soln_ex2(M, D):\n",
    "    n = len(M)\n",
    "    F = np.zeros((n, n))\n",
    "    for i in range(n):\n",
    "        for j in range(n):\n",
    "            if i != j:\n",
    "                f = M[i, j]/D[i, j]**2\n",
    "            else:\n",
    "                f = 0\n",
    "            F[i, j] = f\n",
    "    return F"
   ]
  },
  {
   "cell_type": "code",
   "execution_count": 28,
   "metadata": {
    "deletable": false,
    "editable": false,
    "nbgrader": {
     "grade": true,
     "grade_id": "test_forces",
     "locked": true,
     "points": "2",
     "solution": false
    }
   },
   "outputs": [
    {
     "name": "stdout",
     "output_type": "stream",
     "text": [
      "Your soln is 202.8809073647109x faster than the sample solution (Needs to be at least 10x faster)\n",
      "Passed!\n"
     ]
    }
   ],
   "source": [
    "# test_forces\n",
    "def check_soln2():\n",
    "    time_ratio = []\n",
    "    for _ in range(10):\n",
    "        n, m, X, V = initialize_system(200)\n",
    "        D = pairwise_dist(X)\n",
    "        M = mass_products(m)\n",
    "        t0_test = time.time()\n",
    "        F_test = soln_ex2(M, D)\n",
    "        t1_test = time.time()\n",
    "        F_student = forces(M, D)\n",
    "        t2_student = time.time()\n",
    "        err = np.linalg.norm(F_student - F_test, ord='fro')\n",
    "        assert err <= 1e-8, \"Your solution does not have the correct values\"\n",
    "        time_naive = t1_test - t0_test + 1e-10\n",
    "        time_student = t2_student - t1_test + 1e-10\n",
    "        r = time_naive/time_student\n",
    "        time_ratio.append(r)\n",
    "    return time_ratio\n",
    "\n",
    "time_ratio = check_soln2()\n",
    "mean_ratio = np.mean(time_ratio)\n",
    "msg = \"Your soln is {}x faster than the sample solution (Needs to be at least 10x faster)\".format(mean_ratio)\n",
    "assert mean_ratio >= 10, msg\n",
    "print(msg)\n",
    "print(\"Passed!\")"
   ]
  },
  {
   "cell_type": "markdown",
   "metadata": {
    "deletable": false,
    "editable": false,
    "nbgrader": {
     "grade": false,
     "locked": true,
     "solution": false
    }
   },
   "source": [
    "Now that we have the force that acts between each particle, we calculate the net force on each particle. You don't need to do anything in this cell. You will be required to use this function as it is, in a later part."
   ]
  },
  {
   "cell_type": "code",
   "execution_count": 29,
   "metadata": {
    "collapsed": true,
    "deletable": false,
    "editable": false,
    "nbgrader": {
     "grade": false,
     "locked": true,
     "solution": false
    }
   },
   "outputs": [],
   "source": [
    "# X : The position of each particle (n x 2)\n",
    "# F : The force between each particle (n x n)\n",
    "# Outputs a n x 2 matrix which has the net force on each of the n particles\n",
    "def net_force(X, F):\n",
    "    force_vec = []\n",
    "    n = X.shape[0]\n",
    "    for i in range(n):\n",
    "        x_i = X - X[i]\n",
    "        x_i_norm = np.linalg.norm(x_i, axis=1) + 1e-10\n",
    "        x_i_norm = np.reshape(x_i_norm, (n, 1))\n",
    "        x_i_unit = x_i/x_i_norm\n",
    "        f_i = x_i_unit * F[:, [i]]\n",
    "        net_f_i = np.sum(f_i, axis=0)\n",
    "        force_vec.append(net_f_i)\n",
    "    net_F = np.vstack(force_vec)\n",
    "    return net_F"
   ]
  },
  {
   "cell_type": "markdown",
   "metadata": {
    "deletable": false,
    "editable": false,
    "nbgrader": {
     "grade": false,
     "locked": true,
     "solution": false
    }
   },
   "source": [
    "**Particle velocities.** The next step is to update the velocities of each particle.\n",
    "\n",
    "Given a particle's initial velocity and the net force acting on it, the equation to update the velocity at the next time step is given by:\n",
    "\n",
    "$V = V_{\\mathrm{init}} + \\dfrac{F}{m} \\Delta t$\n",
    "\n",
    "Here, $V_{\\mathrm{init}}$ is the initial velocity before the effect of the force, $F$ is the net force acting, $m$ is the particle's mass, and $\\Delta t$ is the time step. Note that after each $\\Delta t$ the position of the particle changes and hence it experiences a new force depending on its updated coordinates. This is how the system evolves with time."
   ]
  },
  {
   "cell_type": "markdown",
   "metadata": {
    "deletable": false,
    "editable": false,
    "nbgrader": {
     "grade": false,
     "locked": true,
     "solution": false
    }
   },
   "source": [
    "**Exercise 3** (2 point). Complete the **`update_V`** function below.\n",
    "\n",
    "It calculates the updated velocities for each particle given their initial velocity matrix (*`V_init`*), net forces matrix (*`net_F`*), mass array (*`m`*), and time step (*`delta_t`*). Your solution needs to be **10x** faster on Vocareum than what has been provided in the sample solution."
   ]
  },
  {
   "cell_type": "code",
   "execution_count": 36,
   "metadata": {
    "collapsed": true
   },
   "outputs": [],
   "source": [
    "def update_V(V_init, net_F, m, delta_t):\n",
    "    return V_init + (net_F/np.reshape(m, (len(m), 1))) * delta_t\n"
   ]
  },
  {
   "cell_type": "code",
   "execution_count": 37,
   "metadata": {
    "collapsed": true,
    "deletable": false,
    "editable": false,
    "nbgrader": {
     "grade": false,
     "locked": true,
     "solution": false
    }
   },
   "outputs": [],
   "source": [
    "# Sample solution\n",
    "def soln_ex3(V_init, net_F, m, delta_t):\n",
    "    V = np.zeros_like(V_init)\n",
    "    n = m.shape[0]\n",
    "    for i in range(n):\n",
    "        v = V_init[i] + net_F[i]/m[i] * delta_t\n",
    "        V[i] = v\n",
    "    return V"
   ]
  },
  {
   "cell_type": "code",
   "execution_count": 38,
   "metadata": {
    "deletable": false,
    "editable": false,
    "nbgrader": {
     "grade": true,
     "grade_id": "test_velocities",
     "locked": true,
     "points": "2",
     "solution": false
    }
   },
   "outputs": [
    {
     "name": "stdout",
     "output_type": "stream",
     "text": [
      "Your soln is 51.15555680108231x faster than the solution in the test cell (Needs to be atleast 10x faster)\n",
      "Passed!\n"
     ]
    }
   ],
   "source": [
    "# test_velocities\n",
    "def check_soln3():\n",
    "    time_ratio = []\n",
    "    delta_t = 1e-4\n",
    "    for _ in range(10):\n",
    "        n, m, X, V = initialize_system(200)\n",
    "        D = pairwise_dist(X)\n",
    "        M = mass_products(m)\n",
    "        F = forces(M, D)\n",
    "        net_F = net_force(X, F)\n",
    "        t0_test = time.time()\n",
    "        V_test = soln_ex3(V, net_F, m, delta_t)\n",
    "        t1_test = time.time()\n",
    "        V_student = update_V(V, net_F, m, delta_t)\n",
    "        t2_student = time.time()\n",
    "        err = np.linalg.norm(V_student - V_test, ord='fro')\n",
    "        assert err <= 1e-8, \"Your solution does not have the correct values\"\n",
    "        time_naive = t1_test - t0_test + 1e-10\n",
    "        time_student = t2_student - t1_test + 1e-10\n",
    "        r = time_naive/time_student\n",
    "        time_ratio.append(r)\n",
    "    return time_ratio\n",
    "\n",
    "time_ratio = check_soln3()\n",
    "mean_ratio = np.mean(time_ratio)\n",
    "msg = \"Your soln is {}x faster than the solution in the test cell (Needs to be atleast 10x faster)\".format(mean_ratio)\n",
    "assert mean_ratio >= 10, msg\n",
    "print(msg)\n",
    "print(\"Passed!\")"
   ]
  },
  {
   "cell_type": "markdown",
   "metadata": {
    "deletable": false,
    "editable": false,
    "nbgrader": {
     "grade": false,
     "locked": true,
     "solution": false
    }
   },
   "source": [
    "**Exercise 4** (2 point)\n",
    "\n",
    "Now, we need to update the coordinates of the masses. The equation to update the positions are given by\n",
    "\n",
    "$X = X_{init} + V*\\Delta t$\n",
    "\n",
    "Given the $X_{init}$ (position coordinates), V (updated velocity) and $\\Delta t$ we can calculate the new positions of the particles. Your solution needs to be **10x** faster than what has been provided in the sample solution.\n",
    "\n",
    "Complete the **update_X** function below."
   ]
  },
  {
   "cell_type": "code",
   "execution_count": 39,
   "metadata": {
    "collapsed": true
   },
   "outputs": [],
   "source": [
    "def update_X(X_init, V, delta_t):\n",
    "    return X_init + V * delta_t\n"
   ]
  },
  {
   "cell_type": "code",
   "execution_count": 40,
   "metadata": {
    "collapsed": true,
    "deletable": false,
    "editable": false,
    "nbgrader": {
     "grade": false,
     "locked": true,
     "solution": false
    }
   },
   "outputs": [],
   "source": [
    "# Sample solution\n",
    "def soln_ex4(X_init, V, delta_t):\n",
    "    n = X_init.shape[0]\n",
    "    X = np.zeros_like(X_init)\n",
    "    for i in range(n):\n",
    "        x = X_init[i] + V[i] * delta_t\n",
    "        X[i] = x\n",
    "    return X"
   ]
  },
  {
   "cell_type": "code",
   "execution_count": 41,
   "metadata": {
    "deletable": false,
    "editable": false,
    "nbgrader": {
     "grade": true,
     "grade_id": "test_position",
     "locked": true,
     "points": "2",
     "solution": false
    }
   },
   "outputs": [
    {
     "name": "stdout",
     "output_type": "stream",
     "text": [
      "Your soln is 158.34202716274896x faster than the solution in the test cell (Needs to be atleast 10x faster)\n",
      "Passed!\n"
     ]
    }
   ],
   "source": [
    "# test_position\n",
    "def check_soln4():\n",
    "    time_ratio = []\n",
    "    delta_t = 1e-4\n",
    "    for _ in range(10):\n",
    "        n, m, X_init, V = initialize_system(200)\n",
    "        t0_test = time.time()\n",
    "        X_test = soln_ex4(X_init, V, delta_t)\n",
    "        t1_test = time.time()\n",
    "        X_student = update_X(X_init, V, delta_t)\n",
    "        t2_student = time.time()\n",
    "        err = np.linalg.norm(X_student - X_test, ord='fro')\n",
    "        assert err <= 1e-8, \"Your solution does not have the correct values\"\n",
    "        time_naive = t1_test - t0_test + 1e-10\n",
    "        time_student = t2_student - t1_test + 1e-10\n",
    "        r = time_naive/time_student\n",
    "        time_ratio.append(r)\n",
    "    return time_ratio\n",
    "\n",
    "time_ratio = check_soln4()\n",
    "mean_ratio = np.mean(time_ratio)\n",
    "msg = \"Your soln is {}x faster than the solution in the test cell (Needs to be atleast 10x faster)\".format(mean_ratio)\n",
    "assert mean_ratio >= 10, msg\n",
    "print(msg)\n",
    "print(\"Passed!\")"
   ]
  },
  {
   "cell_type": "markdown",
   "metadata": {
    "deletable": false,
    "editable": false,
    "nbgrader": {
     "grade": false,
     "locked": true,
     "solution": false
    }
   },
   "source": [
    "Now we put together all the above steps to simulate the motion of particles under their mutual gravitational forces.\n",
    "\n",
    "At the beginning of our simulation we have the following information about our system.\n",
    "\n",
    "\n",
    "\n",
    "**`m`** - the masses of the particles in the system\n",
    "\n",
    "**`X_init`** - Initial position coordinates of the particles\n",
    "\n",
    "**`V_init`** - Initial velocities of the particles\n",
    "\n",
    "**`delta_t`** - The size of the time step, i.e. the time interval between two successive states in our simulation.\n",
    "\n",
    "(Our system evolves from state $S_{1}$ to state $S_{2}$ such that the two states are separated by $\\Delta t$ time)"
   ]
  },
  {
   "cell_type": "markdown",
   "metadata": {
    "deletable": false,
    "editable": false,
    "nbgrader": {
     "grade": false,
     "locked": true,
     "solution": false
    }
   },
   "source": [
    "The steps are as follows -\n",
    "\n",
    "1. Calculate all pairwise distances **`D`**\n",
    "\n",
    "2. Calculate the pairwise mass products **`M`**\n",
    "\n",
    "3. Calculate the pairwise forces **`F`**\n",
    "\n",
    "4. Calculate the net force using **`net_F`** the function we have provided\n",
    "\n",
    "5. Update the velocity **`V`** based on the net_force\n",
    "\n",
    "6. Update the position coordinates **`X`** based on this updated velocity\n",
    "\n",
    "7. Repeat this step **`T`** times to see how the system evolves into the future"
   ]
  },
  {
   "cell_type": "markdown",
   "metadata": {
    "deletable": false,
    "editable": false,
    "nbgrader": {
     "grade": false,
     "locked": true,
     "solution": false
    }
   },
   "source": [
    "**Exercise 5** (2 points). As described above, complete the **`run_simulation`** function below.\n",
    "\n",
    "The function should simulate the motion of the particles under their mutual gravitation. Your function should take the input **`X_init`**, **`V_init`**, **`m`**, **`delta_t`**, **`T`** and simulate the system for **`T`** time steps into the future. The output should be the position coordinates and velocity matrix of each particle at the end of the T time-steps. This part does not have a sample solution to compare speed. If you have implemented the previous parts in a correct way, this part should be naturally fast to implement."
   ]
  },
  {
   "cell_type": "code",
   "execution_count": 44,
   "metadata": {
    "collapsed": true
   },
   "outputs": [],
   "source": [
    "def run_simulation(X_init, V_init, m, delta_t, T):\n",
    "    for _ in range(T):\n",
    "        D = pairwise_dist(V_init)\n",
    "        M = mass_products(m)\n",
    "        F = forces(M, D)\n",
    "        net_F = net_force(X_init, F)\n",
    "        V_init = update_V(V_init, net_F, m, delta_t)\n",
    "        X_init = update_X(X_init, V_init, delta_t)\n",
    "    return X_init, V_init"
   ]
  },
  {
   "cell_type": "code",
   "execution_count": 45,
   "metadata": {
    "deletable": false,
    "editable": false,
    "nbgrader": {
     "grade": true,
     "grade_id": "test_simulation",
     "locked": true,
     "points": "2",
     "solution": false
    }
   },
   "outputs": [
    {
     "name": "stdout",
     "output_type": "stream",
     "text": [
      "Passed!\n"
     ]
    }
   ],
   "source": [
    "# test_simulation\n",
    "delta_t = 1e-3\n",
    "n, m, X_init, V_init = initialize_system(10)\n",
    "mx1 = np.sum(X_init * m.reshape((n, 1)), axis=0)\n",
    "mv1 = np.sum(V_init * m.reshape((n, 1)), axis=0)\n",
    "\n",
    "for _ in range(5):\n",
    "    T = np.random.randint(100, 500)\n",
    "    X, V = run_simulation(X_init, V_init, m, delta_t, T)\n",
    "    mx2 = np.dot(m, X)\n",
    "    mv2 = np.dot(m, V)\n",
    "    assert np.linalg.norm(mv1 - mv2) < 1e-6, \"Incorrect solution. Net momentum not conserved.\"\n",
    "    assert np.linalg.norm(mx2 - mx1 - mv1*T*delta_t) < 1e-6, \"Incorrect solution, centre of mass not conserved\"\n",
    "print(\"Passed!\")"
   ]
  },
  {
   "cell_type": "markdown",
   "metadata": {
    "deletable": false,
    "editable": false,
    "nbgrader": {
     "grade": false,
     "locked": true,
     "solution": false
    }
   },
   "source": [
    "We now put it all together to plot the trajectories of these particles in 2D space. \n",
    "\n",
    "If all parts above have been implemented correctly, you should be able to see the trajectory of these particles as the system evolves in time. However there are no points for this part. We still encourage you to run this part to visualize what you have implemented in this part."
   ]
  },
  {
   "cell_type": "code",
   "execution_count": 46,
   "metadata": {},
   "outputs": [
    {
     "data": {
      "image/png": "[encoded data removed]",
      "text/plain": [
       "<Figure size 720x432 with 1 Axes>"
      ]
     },
     "metadata": {
      "needs_background": "light"
     },
     "output_type": "display_data"
    }
   ],
   "source": [
    "X_init = np.array([[1, 3], \n",
    "                  [2, 2], \n",
    "                  [1, 0], \n",
    "                  [0, 3]])\n",
    "\n",
    "V_init = np.array([[1, 0],\n",
    "                  [1, 3],\n",
    "                  [1, 2],\n",
    "                  [0, 0]])\n",
    "\n",
    "m = np.array([1, 2, 3, 1])\n",
    "delta_t = 1e-3\n",
    "\n",
    "fig = plt.figure(figsize=(10, 6))\n",
    "c = np.random.rand(X_init.shape[0], 3)\n",
    "for _ in range(500):\n",
    "    n = 100\n",
    "    s = [0.05 for _ in range(X.shape[0])]\n",
    "    plt.scatter(X_init[:,0], X_init[:,1], s=s, color=c[:X_init.shape[0], :])\n",
    "    X_init, V_init = run_simulation(X_init, V_init, m, delta_t, n)\n",
    "    \n",
    "plt.title(\"Trajectories of the particles under their mutual gravitation\")\n",
    "plt.xlabel(\"X-axis\")\n",
    "plt.ylabel(\"Y-axis\")\n",
    "plt.show()"
   ]
  },
  {
   "cell_type": "markdown",
   "metadata": {
    "deletable": false,
    "editable": false,
    "nbgrader": {
     "grade": false,
     "locked": true,
     "solution": false
    }
   },
   "source": [
    "**Fin!** Remember to test your solutions by running them as the autograder will: restart the kernel and run all cells from \"top-to-bottom.\" Also remember to submit to the autograder; otherwise, you will **not** get credit for your hard work!"
   ]
  }
 ],
 "metadata": {
  "kernelspec": {
   "display_name": "Python 3.7",
   "language": "python",
   "name": "python37"
  },
  "language_info": {
   "codemirror_mode": {
    "name": "ipython",
    "version": 3
   },
   "file_extension": ".py",
   "mimetype": "text/x-python",
   "name": "python",
   "nbconvert_exporter": "python",
   "pygments_lexer": "ipython3",
   "version": "3.7.5"
  }
 },
 "nbformat": 4,
 "nbformat_minor": 2
}
