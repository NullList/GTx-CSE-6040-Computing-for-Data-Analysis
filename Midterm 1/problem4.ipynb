{
 "cells": [
  {
   "cell_type": "markdown",
   "metadata": {
    "deletable": false,
    "editable": false,
    "nbgrader": {
     "grade": false,
     "locked": true,
     "solution": false
    }
   },
   "source": [
    "# Problem 4: Change Detection\n",
    "\n",
    "In this problem, you will implement a computational primitive used in time-series analysis. This technique is the _cumulative sum_, or __[CuSum](https://en.wikipedia.org/wiki/CUSUM)__, method.\n",
    "\n",
    "This problem has 5 exercises, numbered 0 through 4 and worth 2 points each."
   ]
  },
  {
   "cell_type": "markdown",
   "metadata": {},
   "source": [
    "**Motivating example.** Consider a steam heater in manufacturing plant. A sensor monitors the heater's temperature every second. The plant considers the safe operating limit of the heater to be an average of $400~^\\circ F$. You are asked to design an algorithm to raise an alarm when the heater is operating significantly outside this limit.\n",
    "\n",
    "The catch is that the sensor _occasionally_ reports an erroneous value.\n",
    "\n",
    "Therefore, you don't want to raise an alert too early for a single errant temperature. Yet, you also don't want to wait too long to raise an alarm. The CuSum primitive will help you in your task."
   ]
  },
  {
   "cell_type": "markdown",
   "metadata": {
    "deletable": false,
    "editable": false,
    "nbgrader": {
     "grade": false,
     "locked": true,
     "solution": false
    }
   },
   "source": [
    "**Definition: CuSum.** Let $t$ denote the current time. The CuSum primitive calculates a value, $S_t$, by the formula\n",
    "\n",
    "$$\n",
    "    S_t = \\max \\left\\{ 0, S_{t-1} + (x_t - \\mu) \\right\\},\n",
    "$$\n",
    "\n",
    "where\n",
    "\n",
    "- $S_t$ is the value of the function at time $t$;\n",
    "- $S_{t-1}$ is the value of the function at time $t-1$;\n",
    "- $\\mu$ is a predetermined mean value, either from an expert or possibly calculated over a range of observed data;\n",
    "- and $x_t$ is the observed value of the temperature sensor at time $t$.\n",
    "\n",
    "Take a moment to convince yourself that $S_t$ is always at least zero, and that it is computed by updating the previous value, $S_{t-1}$, by the difference between the current observation ($x_t$) and an expected mean value ($\\mu$)."
   ]
  },
  {
   "cell_type": "markdown",
   "metadata": {
    "deletable": false,
    "editable": false,
    "nbgrader": {
     "grade": false,
     "locked": true,
     "solution": false
    }
   },
   "source": [
    "**The analysis.** You wish to raise an alarm **only when** the value of $S_t$ crosses a predetermined threshold value, $\\alpha$, i.e., when $S_t > \\alpha$.\n",
    "\n",
    "Let's break down this analysis task into smaller parts."
   ]
  },
  {
   "cell_type": "markdown",
   "metadata": {
    "deletable": false,
    "editable": false,
    "nbgrader": {
     "grade": false,
     "locked": true,
     "solution": false
    }
   },
   "source": [
    "**Exercise 0** (2 points). Write a function, `calc_mean(L)`, that takes a list of values as input and returns the mean of these values. The returned value should be a `float`.\n",
    "\n",
    "If `L` is empty, your function should return 0.0."
   ]
  },
  {
   "cell_type": "code",
   "execution_count": 1,
   "metadata": {
    "collapsed": true
   },
   "outputs": [],
   "source": [
    "def calc_mean(L):\n",
    "    if len(L) == 0:\n",
    "        return 0.0\n",
    "    else:\n",
    "        return sum(L)/len(L)\n"
   ]
  },
  {
   "cell_type": "code",
   "execution_count": 2,
   "metadata": {
    "deletable": false,
    "editable": false,
    "nbgrader": {
     "grade": true,
     "grade_id": "exercise0",
     "locked": true,
     "points": "2",
     "solution": false
    }
   },
   "outputs": [
    {
     "name": "stdout",
     "output_type": "stream",
     "text": [
      "The first of three tests passed.\n",
      "The second of three tests passed.\n",
      "The third of three tests passed.\n",
      "\n",
      "(Passed!)\n"
     ]
    }
   ],
   "source": [
    "## Test cell: `exercise0`\n",
    "\n",
    "import numpy as np\n",
    "def test_calc_mean():\n",
    "    from math import isclose\n",
    "    \n",
    "    # === Test case 1 ===\n",
    "    l1 = [1,2,3,4,5,6,7,8,9,10,11]\n",
    "    v1 = calc_mean(l1)\n",
    "    assert type(v1) is float, 'The output type of your function is not a `float`.'\n",
    "    assert v1 == 6\n",
    "    print('The first of three tests passed.')\n",
    "    \n",
    "    # === Test case 2 ===\n",
    "    l2 = [0.6147724086784333,\n",
    "     0.041371060901369994,\n",
    "     0.15517074629809358,\n",
    "     0.9994471337608886,\n",
    "     0.34722143849306275,\n",
    "     0.9736540850206432,\n",
    "     0.9876353838953996,\n",
    "     0.43634148883600743,\n",
    "     0.19253345111181208,\n",
    "     0.9009963538834159,\n",
    "     0.0128030718775628,\n",
    "     0.49096023681186607,\n",
    "     0.7077636910061673,\n",
    "     0.08720641952991925,\n",
    "     0.11623445158154477,\n",
    "     0.5693725240553406,\n",
    "     0.21344540877232931,\n",
    "     0.9002574759050241,\n",
    "     0.48243289649604815,\n",
    "     0.10056662767642566,\n",
    "     0.7849777627597629,\n",
    "     0.19465211312640196,\n",
    "     0.24315693645974512,\n",
    "     0.03280598433741133,\n",
    "     0.9068657045623628,\n",
    "     0.8137126323327173,\n",
    "     0.4709064813407924,\n",
    "     0.8129058009526944,\n",
    "     0.21502524948350632,\n",
    "     0.9799785187660908,\n",
    "     0.6398366879644906,\n",
    "     0.1763342967561098,\n",
    "     0.8600030568483623,\n",
    "     0.06474748719556933,\n",
    "     0.17812693869592933,\n",
    "     0.6383284889427977,\n",
    "     0.15655520642675347,\n",
    "     0.9348178779950076,\n",
    "     0.30987851590583027,\n",
    "     0.4257618080414638,\n",
    "     0.05640492355676585,\n",
    "     0.5896060176458584,\n",
    "     0.6927091337694952,\n",
    "     0.4779798826877506,\n",
    "     0.12616636986977003,\n",
    "     0.9657925560517088,\n",
    "     0.9921928728923576,\n",
    "     0.5195728322270448,\n",
    "     0.5347703718671102,\n",
    "     0.6766015340172438,\n",
    "     0.5723492327566893,\n",
    "     0.8686225610761558,\n",
    "     0.7507097235435711,\n",
    "     0.8354470091034075,\n",
    "     0.4710212262143838,\n",
    "     0.6129726876928584,\n",
    "     0.9835526850557775,\n",
    "     0.456509500680786,\n",
    "     0.5432556087604551,\n",
    "     0.4054179327898174,\n",
    "     0.42824401398053835,\n",
    "     0.3129138114275283,\n",
    "     0.1224140133827466,\n",
    "     0.6680206838711844,\n",
    "     0.01421622087230101,\n",
    "     0.5834231089638673,\n",
    "     0.7629695652366693,\n",
    "     0.022635672817869712,\n",
    "     0.4982537409553647,\n",
    "     0.45619559492743234,\n",
    "     0.6997574981949215,\n",
    "     0.8852275128900928,\n",
    "     0.6354408255303142,\n",
    "     0.6173324771436511,\n",
    "     0.8125828432894691,\n",
    "     0.14441920559155552,\n",
    "     0.546271957665997,\n",
    "     0.07176999659289907,\n",
    "     0.9387954123123966,\n",
    "     0.16083705910262458,\n",
    "     0.7079371445595795,\n",
    "     0.6521862976232009,\n",
    "     0.3783981542310192,\n",
    "     0.3680400775054291,\n",
    "     0.6612607701755463,\n",
    "     0.3521612486201041,\n",
    "     0.4620998818749855,\n",
    "     0.6438310682088813,\n",
    "     0.08542505813604229,\n",
    "     0.914457432737063,\n",
    "     0.045825132886521236,\n",
    "     0.7663149379499217,\n",
    "     0.1974530956941304,\n",
    "     0.1399606052200838,\n",
    "     0.1707515682711065,\n",
    "     0.6146344959640809,\n",
    "     0.973624652163067,\n",
    "     0.6592102237643751,\n",
    "     0.5262452694633635,\n",
    "     0.16479882048585615]\n",
    "    v2 = calc_mean(l2)\n",
    "    assert type(v2) is float, 'The output type of your function is not what is expected'\n",
    "    assert isclose(v2, 0.5016755571602795, rel_tol=1e-15 * len(l2)), \"Your value: {}\".format(v2)\n",
    "    print('The second of three tests passed.')\n",
    "    \n",
    "    # Test 3\n",
    "    assert calc_mean([]) == 0.0, \"Did not return the correct value for an empty input.\"\n",
    "    print('The third of three tests passed.')\n",
    "    \n",
    "test_calc_mean()\n",
    "print(\"\\n(Passed!)\")"
   ]
  },
  {
   "cell_type": "markdown",
   "metadata": {
    "deletable": false,
    "editable": false,
    "nbgrader": {
     "grade": false,
     "locked": true,
     "solution": false
    }
   },
   "source": [
    "Now that you have calculated the mean, the next step is to implement the function for calculating CuSum."
   ]
  },
  {
   "cell_type": "markdown",
   "metadata": {
    "deletable": false,
    "editable": false,
    "nbgrader": {
     "grade": false,
     "locked": true,
     "solution": false
    }
   },
   "source": [
    "**Exercise 1** (2 points). Write a function, `cusum(x, mu)`, that takes a list of observed temperatures, `x`, and mean parameter `mu` as inputs, and then returns a list of the cumulative sum values at each time.\n",
    "\n",
    "Recall that these CuSum values are defined by\n",
    "\n",
    "$$\n",
    "    S_t = \\max \\left\\{ 0, S_{t-1} + (x_t - \\mu) \\right\\}.\n",
    "$$\n",
    "\n",
    "Assume that $S_{-1} = 0$, that is, the value at $t=-1$, which is \"before\" $t=0$, is zero.\n",
    "\n",
    "For example:\n",
    "\n",
    "```python\n",
    "x = [1,1,2,4,2,4,6,8,9,1,2,3,1,2,1,5]\n",
    "mu = 3\n",
    "assert cusum(x, m) == [0, 0, 0, 0, 1, 0, 1, 4, 9, 15, 13, 12, 12, 10, 9, 7, 9]\n",
    "```"
   ]
  },
  {
   "cell_type": "code",
   "execution_count": 7,
   "metadata": {
    "collapsed": true
   },
   "outputs": [],
   "source": [
    "def cusum(x, mu):\n",
    "    total=[0]\n",
    "    prev = 0\n",
    "    for x_i in x:\n",
    "        total.append(max(0, prev + (x_i - mu)))\n",
    "        prev = max(0, prev + (x_i - mu))\n",
    "        \n",
    "    return total\n"
   ]
  },
  {
   "cell_type": "code",
   "execution_count": 8,
   "metadata": {
    "deletable": false,
    "editable": false,
    "nbgrader": {
     "grade": true,
     "grade_id": "exercise1",
     "locked": true,
     "points": "2",
     "solution": false
    },
    "scrolled": true
   },
   "outputs": [
    {
     "name": "stdout",
     "output_type": "stream",
     "text": [
      "Test case:\n",
      "- x == [1, 1, 2, 4, 2, 4, 6, 8, 9, 1, 2, 3, 1, 2, 1, 5]\n",
      "- mu == 3\n",
      "- True solution: [0, 0, 0, 0, 1, 0, 1, 4, 9, 15, 13, 12, 12, 10, 9, 7, 9]\n",
      "- Your solution: [0, 0, 0, 0, 1, 0, 1, 4, 9, 15, 13, 12, 12, 10, 9, 7, 9]\n",
      "\n",
      "\n",
      "Test case:\n",
      "- x == [36, 29, 28, 22, 5, 20, 39, 3, 40, 48, 47, 9, 0, 36, 31, 20, 13, 41, 10, 46]\n",
      "- mu == 40\n",
      "- True solution: [0, 0, 0, 0, 0, 0, 0, 0, 0, 0, 8, 15, 0, 0, 0, 0, 0, 0, 1, 0, 6]\n",
      "- Your solution: [0, 0, 0, 0, 0, 0, 0, 0, 0, 0, 8, 15, 0, 0, 0, 0, 0, 0, 1, 0, 6]\n",
      "\n",
      "\n",
      "Test case:\n",
      "- x == [39, 37, 17, 28, 36, 40, 35, 32, 23, 1, 38, 3, 33, 3, 47, 13, 24, 38, 14, 8]\n",
      "- mu == 30\n",
      "- True solution: [0, 9, 16, 3, 1, 7, 17, 22, 24, 17, 0, 8, 0, 3, 0, 17, 0, 0, 8, 0, 0]\n",
      "- Your solution: [0, 9, 16, 3, 1, 7, 17, 22, 24, 17, 0, 8, 0, 3, 0, 17, 0, 0, 8, 0, 0]\n",
      "\n",
      "\n",
      "Test case:\n",
      "- x == [1, 1, 2, 4, 2, 4, 6, 8, 9, 1, 2, 3, 1, 2, 1, 5]\n",
      "- mu == 3\n",
      "- True solution: [0, 0, 0, 0, 1, 0, 1, 4, 9, 15, 13, 12, 12, 10, 9, 7, 9]\n",
      "- Your solution: [0, 0, 0, 0, 1, 0, 1, 4, 9, 15, 13, 12, 12, 10, 9, 7, 9]\n",
      "\n",
      "\n",
      "Test case:\n",
      "- x == [0, 45, 36, 14, 29, 23, 5, 30, 36, 4, 24, 7, 49, 11, 38, 42, 29, 27, 2, 5]\n",
      "- mu == 30\n",
      "- True solution: [0, 0, 15, 21, 5, 4, 0, 0, 0, 6, 0, 0, 0, 19, 0, 8, 20, 19, 16, 0, 0]\n",
      "- Your solution: [0, 0, 15, 21, 5, 4, 0, 0, 0, 6, 0, 0, 0, 19, 0, 8, 20, 19, 16, 0, 0]\n",
      "\n",
      "\n",
      "(Passed!)\n"
     ]
    }
   ],
   "source": [
    "# Test cell: `exercise1`\n",
    "\n",
    "def check_exercise1(x, mu, S_true):\n",
    "    from math import isclose\n",
    "    print(\"Test case:\\n- x == {}\\n- mu == {}\\n- True solution: {}\".format(x, mu, S_true))\n",
    "    S_you = cusum(x, mu)\n",
    "    print(\"- Your solution: {}\".format(S_you))\n",
    "    assert type(S_you) is list, \"Your function did not return a list.\"\n",
    "    assert all([isclose(s, t, rel_tol=1e-15*len(x)) for s, t in zip(S_you, S_true)]), \"Numerical values differ!\"\n",
    "    print(\"\\n\")\n",
    "\n",
    "# Test 0\n",
    "check_exercise1([1,1,2,4,2,4,6,8,9,1,2,3,1,2,1,5], 3, [0, 0, 0, 0, 1, 0, 1, 4, 9, 15, 13, 12, 12, 10, 9, 7, 9])\n",
    "\n",
    "# Test 1\n",
    "check_exercise1([36, 29, 28, 22, 5, 20, 39, 3, 40, 48, 47, 9, 0, 36, 31, 20, 13, 41, 10, 46],\n",
    "                40,\n",
    "                [0, 0, 0, 0, 0, 0, 0, 0, 0, 0, 8, 15, 0, 0, 0, 0, 0, 0, 1, 0, 6])\n",
    "\n",
    "# Test 2\n",
    "check_exercise1([39, 37, 17, 28, 36, 40, 35, 32, 23, 1, 38, 3, 33, 3, 47, 13, 24, 38, 14, 8],\n",
    "                30,\n",
    "                [0, 9, 16, 3, 1, 7, 17, 22, 24, 17, 0, 8, 0, 3, 0, 17, 0, 0, 8, 0, 0])\n",
    "\n",
    "# Test 3\n",
    "check_exercise1([1,1,2,4,2,4,6,8,9,1,2,3,1,2,1,5],\n",
    "               3,\n",
    "               [0, 0, 0, 0, 1, 0, 1, 4, 9, 15, 13, 12, 12, 10, 9, 7, 9])\n",
    "\n",
    "# Test 4\n",
    "check_exercise1([0, 45, 36, 14, 29, 23, 5, 30, 36, 4, 24, 7, 49, 11, 38, 42, 29, 27, 2, 5],\n",
    "                30,\n",
    "                [0, 0, 15, 21, 5, 4, 0, 0, 0, 6, 0, 0, 0, 19, 0, 8, 20, 19, 16, 0, 0])\n",
    "\n",
    "print(\"(Passed!)\")"
   ]
  },
  {
   "cell_type": "markdown",
   "metadata": {
    "deletable": false,
    "editable": false,
    "nbgrader": {
     "grade": false,
     "locked": true,
     "solution": false
    }
   },
   "source": [
    "**Exercise 2** (2 points). Write a function, `get_index(CS, alpha)`, that takes a list `CS` and threshold `alpha` as inputs and returns the position, `index`, of the first element such that `CS[index] > alpha`.\n",
    "\n",
    "For example:\n",
    "\n",
    "```python\n",
    "CS = [0, 0, 0, 0, 1, 0, 1, 4, 9, 8, 12, 13, 12, 10, 9, 7, 9]\n",
    "alpha = 12\n",
    "assert get_index(CS, alpha) == 11\n",
    "```\n",
    "\n",
    "If no such element is found in `CS`, the function should return -1."
   ]
  },
  {
   "cell_type": "code",
   "execution_count": 13,
   "metadata": {
    "collapsed": true
   },
   "outputs": [],
   "source": [
    "def get_index(CS, alpha):\n",
    "    \n",
    "    greater = []\n",
    "    \n",
    "    for index, x_i in enumerate(CS):\n",
    "        if x_i > alpha:\n",
    "            greater.append(index)\n",
    "        \n",
    "    if not greater:\n",
    "        return -1\n",
    "    else:\n",
    "        return greater[0]\n",
    "        \n",
    "        \n",
    "    return greater\n"
   ]
  },
  {
   "cell_type": "code",
   "execution_count": 14,
   "metadata": {
    "deletable": false,
    "editable": false,
    "nbgrader": {
     "grade": true,
     "grade_id": "exercise2",
     "locked": true,
     "points": "2",
     "solution": false
    }
   },
   "outputs": [
    {
     "name": "stdout",
     "output_type": "stream",
     "text": [
      "Test case:\n",
      "- Input         : [0, 0, 0, 0, 1, 0, 1, 4, 9, 8, 12, 13, 12, 10, 9, 7, 9]\n",
      "- Threshold     : 12\n",
      "- Correct output: 11\n",
      "- Your output   : 11\n",
      "Test case:\n",
      "- Input         : [0, 0, 0, 0, 1, 0, 1, 4, 9, 8, 12, 13, 12, 10, 9, 7, 9]\n",
      "- Threshold     : 15\n",
      "- Correct output: -1\n",
      "- Your output   : -1\n",
      "Test case:\n",
      "- Input         : [0, 14, 0, 0, 1, 0, 1, 4, 9, 8, 12, 13, 12, 10, 9, 7, 9]\n",
      "- Threshold     : 12\n",
      "- Correct output: 1\n",
      "- Your output   : 1\n",
      "Test case:\n",
      "- Input         : [0, 1, 0, 0, 1, 0, 1, 4, 9, 8, 12, 13, 17, 19, 25, 30, 20]\n",
      "- Threshold     : 25\n",
      "- Correct output: 15\n",
      "- Your output   : 15\n",
      "\n",
      "(Passed!)\n"
     ]
    }
   ],
   "source": [
    "# Test cell: `exercise2`\n",
    "\n",
    "def check_exercise2(CS, alpha, ans):\n",
    "    print(\"Test case:\")\n",
    "    print(\"- Input         : {}\".format(CS))\n",
    "    print(\"- Threshold     : {}\".format(alpha))\n",
    "    print(\"- Correct output: {}\".format(ans))\n",
    "    your_ans = get_index(CS, alpha)\n",
    "    print(\"- Your output   : {}\".format(your_ans))\n",
    "    assert your_ans == ans, \"Solutions do not match!\"\n",
    "\n",
    "# Test 1\n",
    "check_exercise2([0, 0, 0, 0, 1, 0, 1, 4, 9, 8, 12, 13, 12, 10, 9, 7, 9], 12, 11)\n",
    "\n",
    "# Test 2\n",
    "check_exercise2([0, 0, 0, 0, 1, 0, 1, 4, 9, 8, 12, 13, 12, 10, 9, 7, 9], 15, -1)\n",
    "\n",
    "# Test 3\n",
    "check_exercise2([0, 14, 0, 0, 1, 0, 1, 4, 9, 8, 12, 13, 12, 10, 9, 7, 9], 12, 1)\n",
    "\n",
    "# Test 4\n",
    "check_exercise2([0, 1, 0, 0, 1, 0, 1, 4, 9, 8, 12, 13, 17, 19, 25, 30, 20], 25, 15)\n",
    "\n",
    "print(\"\\n(Passed!)\")"
   ]
  },
  {
   "cell_type": "markdown",
   "metadata": {
    "deletable": false,
    "editable": false,
    "nbgrader": {
     "grade": false,
     "locked": true,
     "solution": false
    }
   },
   "source": [
    "**Putting it all together.** Recall that you've now built the following functions:\n",
    "\n",
    "- `calc_mean(L)`: returns the mean of `L`;\n",
    "- `cusum(x, mu)`: returns the CuSum for the sequence `x[:]`, given `mu`; and\n",
    "- `get_index(CS, alpha)`: returns the position in `CS` that exceeds a threshold `alpha`.\n",
    "\n",
    "Now let's put all the pieces of this puzzle together!"
   ]
  },
  {
   "cell_type": "markdown",
   "metadata": {
    "deletable": false,
    "editable": false,
    "nbgrader": {
     "grade": false,
     "locked": true,
     "solution": false
    }
   },
   "source": [
    "**Exercise 3** (2 points). Write a function, `raise_alarm(x, alpha)`, that takes a list of observed temperatures, `x`, and a threshold, `alpha`, as inputs, and returns the first element as a pair (tuple), `(index, element)`, such that the CuSum at time `index` exceeds `alpha`.\n",
    "\n",
    "For the mean ($\\mu$), use the mean of `x`. And if no CuSum value exceeds the threshold, your function should return `(-1, None)`.\n",
    "\n",
    "Here is an example that should raise an alarm:\n",
    "\n",
    "```python\n",
    "x = [0, 0, 0, 0, 1, 0, 1, 4, 9, 8, 12, 13, 12, 10, 9, 7, 9]\n",
    "alpha = 12\n",
    "assert raise_alarm(x, alpha) == (11, 13)\n",
    "```\n",
    "\n",
    "And here is an example where there is no alarm:\n",
    "\n",
    "```python\n",
    "x = [11, 15, 35, 34, 11, 1, 28, 37, 20, 32, 25, 21, 45, 25, 31, 16, 36, 28, 18, 25]\n",
    "alpha = 50\n",
    "assert raise_alarm(x, alpha) == (-1, None)\n",
    "```"
   ]
  },
  {
   "cell_type": "code",
   "execution_count": 17,
   "metadata": {
    "collapsed": true
   },
   "outputs": [],
   "source": [
    "def raise_alarm(x, alpha):\n",
    "    mean_obs = calc_mean(x)\n",
    "    trip_values = cusum(x, mean_obs)\n",
    "    trip_index = get_index(trip_values, alpha)\n",
    "    trip_value = x[trip_index]\n",
    "    \n",
    "    if trip_index == -1:\n",
    "        trip_value = None\n",
    "        \n",
    "    return trip_index, trip_value\n"
   ]
  },
  {
   "cell_type": "code",
   "execution_count": 18,
   "metadata": {
    "deletable": false,
    "editable": false,
    "nbgrader": {
     "grade": true,
     "grade_id": "exercise3_0",
     "locked": true,
     "points": "1",
     "solution": false
    }
   },
   "outputs": [
    {
     "name": "stdout",
     "output_type": "stream",
     "text": [
      "Test case:\n",
      "- Observations  : [0, 0, 0, 0, 1, 0, 1, 4, 9, 8, 12, 13, 12, 10, 9, 7, 9]\n",
      "- Threshold     : 12\n",
      "- Correct output: (11, 13)\n",
      "- Your output   : (11, 13)\n",
      "\n",
      "Test case:\n",
      "- Observations  : [11, 15, 35, 34, 11, 1, 28, 37, 20, 32, 25, 21, 45, 25, 31, 16, 36, 28, 18, 25]\n",
      "- Threshold     : 50\n",
      "- Correct output: (-1, None)\n",
      "- Your output   : (-1, None)\n",
      "\n",
      "Passed: test 1/2\n"
     ]
    }
   ],
   "source": [
    "## Test cell: `exercise3_0`\n",
    "\n",
    "def check_exercise3(x, alpha, ans):\n",
    "    from math import isclose\n",
    "    print(\"Test case:\")\n",
    "    print(\"- Observations  : {}\".format(x))\n",
    "    print(\"- Threshold     : {}\".format(alpha))\n",
    "    print(\"- Correct output: {}\".format(ans))\n",
    "    your_ans = raise_alarm(x, alpha)\n",
    "    assert type(your_ans) is tuple and len(your_ans) == 2, \"You did not return a pair!\"\n",
    "    print(\"- Your output   : {}\".format(your_ans))\n",
    "    assert ans[0] == your_ans[0], \"Index position part of the returned pair did not match!\"\n",
    "    if ans[0] == -1:\n",
    "        check1 = (ans[1] == your_ans[1]) # None value\n",
    "    else:\n",
    "        check1 = isclose(ans[1], your_ans[1], rel_tol=1e-15)\n",
    "    assert check1, \"Element part of the returned pair did not match!\"\n",
    "    print(\"\")\n",
    "\n",
    "# Test 1\n",
    "check_exercise3([0, 0, 0, 0, 1, 0, 1, 4, 9, 8, 12, 13, 12, 10, 9, 7, 9], 12, (11, 13))\n",
    "\n",
    "# test 2\n",
    "check_exercise3([11, 15, 35, 34, 11, 1, 28, 37, 20, 32, 25, 21, 45, 25, 31, 16, 36, 28, 18, 25], 50, (-1, None))\n",
    "\n",
    "print(\"Passed: test 1/2\")"
   ]
  },
  {
   "cell_type": "code",
   "execution_count": 19,
   "metadata": {
    "deletable": false,
    "editable": false,
    "nbgrader": {
     "grade": true,
     "grade_id": "exercise3_1",
     "locked": true,
     "points": "1",
     "solution": false
    }
   },
   "outputs": [
    {
     "name": "stdout",
     "output_type": "stream",
     "text": [
      "The list values and your point of change detection\n",
      "----------------- list 0 ----------------- \n"
     ]
    },
    {
     "data": {
      "text/plain": [
       "<Figure size 640x480 with 1 Axes>"
      ]
     },
     "metadata": {},
     "output_type": "display_data"
    },
    {
     "name": "stdout",
     "output_type": "stream",
     "text": [
      "----------------- list 1 ----------------- \n"
     ]
    },
    {
     "data": {
      "text/plain": [
       "<Figure size 640x480 with 1 Axes>"
      ]
     },
     "metadata": {},
     "output_type": "display_data"
    },
    {
     "name": "stdout",
     "output_type": "stream",
     "text": [
      "----------------- list 2 ----------------- \n"
     ]
    },
    {
     "data": {
      "text/plain": [
       "<Figure size 640x480 with 1 Axes>"
      ]
     },
     "metadata": {},
     "output_type": "display_data"
    },
    {
     "name": "stdout",
     "output_type": "stream",
     "text": [
      "----------------- list 3 ----------------- \n"
     ]
    },
    {
     "data": {
      "text/plain": [
       "<Figure size 640x480 with 1 Axes>"
      ]
     },
     "metadata": {},
     "output_type": "display_data"
    },
    {
     "name": "stdout",
     "output_type": "stream",
     "text": [
      "----------------- list 4 ----------------- \n"
     ]
    },
    {
     "data": {
      "text/plain": [
       "<Figure size 640x480 with 1 Axes>"
      ]
     },
     "metadata": {},
     "output_type": "display_data"
    },
    {
     "name": "stdout",
     "output_type": "stream",
     "text": [
      "----------------- list 5 ----------------- \n"
     ]
    },
    {
     "data": {
      "text/plain": [
       "<Figure size 640x480 with 1 Axes>"
      ]
     },
     "metadata": {},
     "output_type": "display_data"
    },
    {
     "name": "stdout",
     "output_type": "stream",
     "text": [
      "----------------- list 6 ----------------- \n"
     ]
    },
    {
     "data": {
      "text/plain": [
       "<Figure size 640x480 with 1 Axes>"
      ]
     },
     "metadata": {},
     "output_type": "display_data"
    },
    {
     "name": "stdout",
     "output_type": "stream",
     "text": [
      "----------------- list 7 ----------------- \n"
     ]
    },
    {
     "data": {
      "text/plain": [
       "<Figure size 640x480 with 1 Axes>"
      ]
     },
     "metadata": {},
     "output_type": "display_data"
    },
    {
     "name": "stdout",
     "output_type": "stream",
     "text": [
      "----------------- list 8 ----------------- \n"
     ]
    },
    {
     "data": {
      "text/plain": [
       "<Figure size 640x480 with 1 Axes>"
      ]
     },
     "metadata": {},
     "output_type": "display_data"
    },
    {
     "name": "stdout",
     "output_type": "stream",
     "text": [
      "----------------- list 9 ----------------- \n"
     ]
    },
    {
     "data": {
      "text/plain": [
       "<Figure size 640x480 with 1 Axes>"
      ]
     },
     "metadata": {},
     "output_type": "display_data"
    },
    {
     "name": "stdout",
     "output_type": "stream",
     "text": [
      "----------------- list 10 ----------------- \n"
     ]
    },
    {
     "data": {
      "text/plain": [
       "<Figure size 640x480 with 1 Axes>"
      ]
     },
     "metadata": {},
     "output_type": "display_data"
    },
    {
     "name": "stdout",
     "output_type": "stream",
     "text": [
      "----------------- list 11 ----------------- \n"
     ]
    },
    {
     "data": {
      "text/plain": [
       "<Figure size 640x480 with 1 Axes>"
      ]
     },
     "metadata": {},
     "output_type": "display_data"
    },
    {
     "name": "stdout",
     "output_type": "stream",
     "text": [
      "----------------- list 12 ----------------- \n"
     ]
    },
    {
     "data": {
      "text/plain": [
       "<Figure size 640x480 with 1 Axes>"
      ]
     },
     "metadata": {},
     "output_type": "display_data"
    },
    {
     "name": "stdout",
     "output_type": "stream",
     "text": [
      "----------------- list 13 ----------------- \n"
     ]
    },
    {
     "data": {
      "text/plain": [
       "<Figure size 640x480 with 1 Axes>"
      ]
     },
     "metadata": {},
     "output_type": "display_data"
    },
    {
     "name": "stdout",
     "output_type": "stream",
     "text": [
      "----------------- list 14 ----------------- \n"
     ]
    },
    {
     "data": {
      "text/plain": [
       "<Figure size 640x480 with 1 Axes>"
      ]
     },
     "metadata": {},
     "output_type": "display_data"
    },
    {
     "name": "stdout",
     "output_type": "stream",
     "text": [
      "\n",
      " Passed: test 2/2\n"
     ]
    }
   ],
   "source": [
    "## Test cell: `exercise3_1`\n",
    "import matplotlib.pyplot as plt\n",
    "import numpy as np\n",
    "print(\"The list values and your point of change detection\")\n",
    "for i in range(15):\n",
    "    change_index = np.random.randint(10,100)\n",
    "    change_volume = np.random.randint(3,5)\n",
    "    test_input = list(np.random.random(change_index))+ list(np.random.random(20)+change_volume)\n",
    "    test_input.insert(change_index - 10, change_volume)\n",
    "    test_input.insert(change_index - 20, change_volume)\n",
    "    \n",
    "    # Plot sequences\n",
    "    print(\"----------------- list {} ----------------- \".format(i))\n",
    "    plt.plot(test_input)\n",
    "    your_ans = raise_alarm(test_input,change_volume*2)[0]\n",
    "    plt.plot([your_ans]*10, range(10), 'k-', lw=1)\n",
    "    plt.show()\n",
    "    assert raise_alarm(test_input,change_volume*5)[0] >= change_index, print(\"You do not have the correct index of change\")\n",
    "    \n",
    "print(\"\\n Passed: test 2/2\")"
   ]
  },
  {
   "cell_type": "markdown",
   "metadata": {
    "collapsed": true,
    "deletable": false,
    "editable": false,
    "nbgrader": {
     "grade": false,
     "locked": true,
     "solution": false
    }
   },
   "source": [
    "Let's take this one step further. \n",
    "\n",
    "In the previous exercises, we considered the mean of the list to be a constant value (or a known value) over all times. Such a random time series is said to be _stationary_. But there are cases when the system is non-stationary, where the mean value varies in time. This phenomenon occurs with, for instance, seasonal data, like when the average temperature depends on the time of year.\n",
    "\n",
    "In this case, you might want a _dynamic CuSum_, that is, one that maintains a **moving average** that you update over time. For the last exercise in this notebook, let's implement a key piece of such a method."
   ]
  },
  {
   "cell_type": "markdown",
   "metadata": {},
   "source": [
    "**Exercise 4** (2 points). Write a function, `calc_mean_dynamic(L)`, that takes a list of values `L` and returns a new list, `mu`, where `mu[t]` is the average value of the **preceding four time points**, `L[t-4]`, `L[t-3]`, `L[t-2]`, and `L[t-1]`.\n",
    "\n",
    "When `t < 4`, the preceding time points do not exist. Your computation should assume that they do and that their values are 0.\n",
    "\n",
    "That is, consider this example:\n",
    "\n",
    "```python\n",
    "L = [1, 1, 2, 4, 6, 2, 1]\n",
    "assert calc_mean_dynamic(L) == [0, 0.25, 0.5, 1, 2, 3.25, 3.5]\n",
    "```\n",
    "\n",
    "At `t=0`, there are no earlier time points. Therefore, the output should be $\\frac{0+0+0+0}{4} = 0$. At `t=1`, there is only one preceding time point, `L[0]=1`. Therefore, the dynamic or moving average should be computed as $\\frac{0+0+0+1}{4} = 0.25$. At `t=2`, it would be $\\frac{0+0+1+1}{4} = 0.5$."
   ]
  },
  {
   "cell_type": "code",
   "execution_count": 22,
   "metadata": {
    "collapsed": true
   },
   "outputs": [],
   "source": [
    "def calc_mean_dynamic(L):\n",
    "    \n",
    "    new_L = [0,0,0,0]\n",
    "    \n",
    "    for i in L:\n",
    "        new_L.append(i)\n",
    "        \n",
    "    run_mean = np.convolve(new_L, np.ones((4, ))/4, mode = 'valid')\n",
    "    run_mean = list(run_mean)\n",
    "    \n",
    "    run_mean = run_mean[:len(L)]\n",
    "    \n",
    "    return list(run_mean)"
   ]
  },
  {
   "cell_type": "code",
   "execution_count": 23,
   "metadata": {
    "deletable": false,
    "editable": false,
    "nbgrader": {
     "grade": true,
     "grade_id": "exercise4",
     "locked": true,
     "points": "2",
     "solution": false
    }
   },
   "outputs": [
    {
     "name": "stdout",
     "output_type": "stream",
     "text": [
      "Test case:\n",
      "- Input      : [1, 1, 2, 4, 6, 2, 1]\n",
      "- True answer: [0, 0.25, 0.5, 1, 2, 3.25, 3.5]\n",
      "- Your answer: [0.0, 0.25, 0.5, 1.0, 2.0, 3.25, 3.5]\n",
      "\n",
      "Test case:\n",
      "- Input      : [36, 29, 28, 22, 5, 20, 39, 3, 40, 48, 47, 9, 0, 36, 31, 20, 13, 41, 10, 46]\n",
      "- True answer: [0.0, 9.0, 16.25, 23.25, 28.75, 21.0, 18.75, 21.5, 16.75, 25.5, 32.5, 34.5, 36.0, 26.0, 23.0, 19.0, 21.75, 25.0, 26.25, 21.0]\n",
      "- Your answer: [0.0, 9.0, 16.25, 23.25, 28.75, 21.0, 18.75, 21.5, 16.75, 25.5, 32.5, 34.5, 36.0, 26.0, 23.0, 19.0, 21.75, 25.0, 26.25, 21.0]\n",
      "\n",
      "Test case:\n",
      "- Input      : [39, 37, 17, 28, 36, 40, 35, 32, 23, 1, 38, 3, 33, 3, 47, 13, 24, 38, 14, 8]\n",
      "- True answer: [0.0, 9.75, 19.0, 23.25, 30.25, 29.5, 30.25, 34.75, 35.75, 32.5, 22.75, 23.5, 16.25, 18.75, 19.25, 21.5, 24.0, 21.75, 30.5, 22.25]\n",
      "- Your answer: [0.0, 9.75, 19.0, 23.25, 30.25, 29.5, 30.25, 34.75, 35.75, 32.5, 22.75, 23.5, 16.25, 18.75, 19.25, 21.5, 24.0, 21.75, 30.5, 22.25]\n",
      "\n",
      "Test case:\n",
      "- Input      : [1, 1, 2, 4, 2, 4, 6, 8, 9, 1, 2, 3, 1, 2, 1, 5]\n",
      "- True answer: [0.0, 0.25, 0.5, 1.0, 2.0, 2.25, 3.0, 4.0, 5.0, 6.75, 6.0, 5.0, 3.75, 1.75, 2.0, 1.75]\n",
      "- Your answer: [0.0, 0.25, 0.5, 1.0, 2.0, 2.25, 3.0, 4.0, 5.0, 6.75, 6.0, 5.0, 3.75, 1.75, 2.0, 1.75]\n",
      "\n",
      "(Passed!)\n"
     ]
    }
   ],
   "source": [
    "# Test cell: `exercise4`\n",
    "\n",
    "def check_exercise4(L, ans):\n",
    "    from math import isclose\n",
    "    print(\"Test case:\")\n",
    "    print(\"- Input      : {}\".format(L))\n",
    "    print(\"- True answer: {}\".format(ans))\n",
    "    your_ans = calc_mean_dynamic(L)\n",
    "    print(\"- Your answer: {}\".format(your_ans))\n",
    "    assert len(ans) == len(your_ans), \"Output lengths do not match!\"\n",
    "    for i, (a, b) in enumerate(zip(ans, your_ans)):\n",
    "        assert isclose(a, b, rel_tol=1e-13), \"Answers differ at position {}: {} vs. {}\".format(i, a, b)\n",
    "    print(\"\")\n",
    "\n",
    "# test 1\n",
    "check_exercise4([1, 1, 2, 4, 6, 2, 1],\n",
    "                [0, 0.25, 0.5, 1, 2, 3.25, 3.5])\n",
    "\n",
    "# test 2\n",
    "check_exercise4([36, 29, 28, 22, 5, 20, 39, 3, 40, 48, 47, 9, 0, 36, 31, 20, 13, 41, 10, 46],\n",
    "                [0.0, 9.0, 16.25, 23.25, 28.75, 21.0, 18.75, 21.5, 16.75, 25.5, 32.5, 34.5, 36.0, 26.0, 23.0, 19.0, 21.75, 25.0, 26.25, 21.0])\n",
    "\n",
    "# test 3\n",
    "check_exercise4([39, 37, 17, 28, 36, 40, 35, 32, 23, 1, 38, 3, 33, 3, 47, 13, 24, 38, 14, 8],\n",
    "                [0.0, 9.75, 19.0, 23.25, 30.25, 29.5, 30.25, 34.75, 35.75, 32.5, 22.75, 23.5, 16.25, 18.75, 19.25, 21.5, 24.0, 21.75, 30.5, 22.25])\n",
    "\n",
    "# test 4\n",
    "check_exercise4([1,1,2,4,2,4,6,8,9,1,2,3,1,2,1,5],\n",
    "                [0.0, 0.25, 0.5, 1.0, 2.0, 2.25, 3.0, 4.0, 5.0, 6.75, 6.0, 5.0, 3.75, 1.75, 2.0, 1.75])\n",
    "\n",
    "print(\"(Passed!)\")"
   ]
  },
  {
   "cell_type": "markdown",
   "metadata": {
    "collapsed": true,
    "deletable": false,
    "editable": false,
    "nbgrader": {
     "grade": false,
     "locked": true,
     "solution": false
    }
   },
   "source": [
    "***Fin!*** You've reached the end of this problem. Don't forget to restart the kernel and run the entire notebook from top-to-bottom to make sure you did everything correctly. If that is working, try submitting this problem. (Recall that you must submit and pass the autograder to get credit for your work!)"
   ]
  }
 ],
 "metadata": {
  "kernelspec": {
   "display_name": "Python 3 [3.6]",
   "language": "python",
   "name": "python3"
  },
  "language_info": {
   "codemirror_mode": {
    "name": "ipython",
    "version": 3
   },
   "file_extension": ".py",
   "mimetype": "text/x-python",
   "name": "python",
   "nbconvert_exporter": "python",
   "pygments_lexer": "ipython3",
   "version": "3.6.4"
  }
 },
 "nbformat": 4,
 "nbformat_minor": 2
}
