{
 "cells": [
  {
   "cell_type": "markdown",
   "metadata": {
    "deletable": false,
    "editable": false,
    "nbgrader": {
     "grade": false,
     "locked": true,
     "solution": false
    }
   },
   "source": [
    "# Problem 2: CIA Foreign Intelligence Mission\n",
    "\n",
    "_Version 1.1_"
   ]
  },
  {
   "cell_type": "markdown",
   "metadata": {
    "deletable": false,
    "editable": false,
    "nbgrader": {
     "grade": false,
     "locked": true,
     "solution": false
    }
   },
   "source": [
    "## *Mission Brief*\n",
    "\n",
    "### 1. Situation:\n",
    "\n",
    "* `National Security Agency (NSA)` just shared the `signals intelligence (SIGINT)` with us suggesting that `new secret nuclear test sites` are under construction in North Korea.\n",
    "   \n",
    "* You, an `Operations Officer` in an undisclosed location, just acquired a `cryptic document` from your informant that possibly includes `information about the new test sites`.\n",
    "    \n",
    "    \n",
    "### 2. Mission:\n",
    "\n",
    "* You need to `send this document securely to headquarters (HQ)` in Langley as soon as possible for immediate analysis and confirmation.\n",
    "* Provide the analyst at HQ with a decoder for your secure transmission.\n",
    "\n",
    "\n",
    "### 3. Procedure (total 10 pts):\n",
    "\n",
    "* Load the `cryptic document` to your mission terminal (2 pts)\n",
    "* Clean your loaded text for secure transmission (2 pts)\n",
    "* Encode the text and send it to the analyst in Langley (3 pts)\n",
    "* In a separate message, send the decoder for the secure message (3 pts)\n"
   ]
  },
  {
   "cell_type": "markdown",
   "metadata": {
    "deletable": false,
    "editable": false,
    "nbgrader": {
     "grade": false,
     "locked": true,
     "solution": false
    }
   },
   "source": [
    "## *\"Break a leg, Officer!\"*"
   ]
  },
  {
   "cell_type": "markdown",
   "metadata": {
    "deletable": false,
    "editable": false,
    "nbgrader": {
     "grade": false,
     "locked": true,
     "solution": false
    }
   },
   "source": [
    "**Exercise 0** (2 points). After the secret rendevous, you're back in the safe house. The case number assigned for this mission is 8754. Open and read `case8754.txt`. The contents of `case8754.txt` may contain punctuation characters as well as alphanumeric characters. Save the text in a variable named `document`. Print it to examine.\n",
    "\n",
    "> _Hint_: In Python, you don’t need to import a library in order to read and write files. https://www.pythonforbeginners.com/files/reading-and-writing-files-in-python."
   ]
  },
  {
   "cell_type": "code",
   "execution_count": 2,
   "metadata": {
    "nbgrader": {
     "grade": false,
     "locked": false,
     "solution": false
    }
   },
   "outputs": [
    {
     "name": "stdout",
     "output_type": "stream",
     "text": [
      "we123 are @!planning123785 t1343he lau345nch of proj\\\\[]ect rendezv___ous for./ early next w57643eek from are1933a fifty two over the te097sts have proce49-2eded on sched^&**ule over@#$# no outside interf____erence yet over the plan is on ov9734er and ou===t\n"
     ]
    }
   ],
   "source": [
    "case_file = open('case8754.txt', 'r')\n",
    "\n",
    "document = case_file.read()\n",
    "\n",
    "print(document)"
   ]
  },
  {
   "cell_type": "code",
   "execution_count": 3,
   "metadata": {
    "deletable": false,
    "editable": false,
    "nbgrader": {
     "grade": true,
     "grade_id": "exercise0",
     "locked": true,
     "points": "2",
     "solution": false
    }
   },
   "outputs": [
    {
     "name": "stdout",
     "output_type": "stream",
     "text": [
      "\n",
      "(Passed!)\n"
     ]
    }
   ],
   "source": [
    "# TEST CELL: Exercise 0 \n",
    "\n",
    "assert type(document) is str\n",
    "assert len(document) == 258\n",
    "\n",
    "def check_hash(doc, key):\n",
    "    from hashlib import md5\n",
    "    doc_hash = md5(doc.encode()).hexdigest()\n",
    "    assert doc_hash == key, \"Your document does not have the correct contents.\"\n",
    "\n",
    "check_hash(document, 'e27267ba0a5c5edce43816fd86112d8a')\n",
    "\n",
    "print(\"\\n(Passed!)\")"
   ]
  },
  {
   "cell_type": "markdown",
   "metadata": {
    "deletable": false,
    "editable": false,
    "nbgrader": {
     "grade": false,
     "locked": true,
     "solution": false
    }
   },
   "source": [
    "**Exercise 1** (2 points). Your informant had to make the `document` messy in order to pass the security check. S/he told you that only white spaces and alphabetic characters (regardless of capitalization) carry meaniningful information.\n",
    "\n",
    "Now, clean the `document`. Complete the following function, `clean_string(s)`, that returns a new string where any alphabetic characters are converted to lowercase, any whitespace is preserved as-is, and any other character is removed."
   ]
  },
  {
   "cell_type": "code",
   "execution_count": 4,
   "metadata": {},
   "outputs": [
    {
     "name": "stdout",
     "output_type": "stream",
     "text": [
      "Before:  we123 are @!planning123785 t1343he lau345nch of proj\\\\[]ect rendezv___ous for./ early next w57643eek from are1933a fifty two over the te097sts have proce49-2eded on sched^&**ule over@#$# no outside interf____erence yet over the plan is on ov9734er and ou===t \n",
      "After:  we are planning the launch of project rendezvous for early next week from area fifty two over the tests have proceeded on schedule over no outside interference yet over the plan is on over and out\n"
     ]
    }
   ],
   "source": [
    "def clean_string(s):\n",
    "    assert type (s) is str\n",
    "    s_clean = ''\n",
    "    for x in s:\n",
    "        if x.isalpha() or x.isspace():\n",
    "            s_clean += x.lower()\n",
    "            \n",
    "    return s_clean\n",
    "    \n",
    "## Let's see the result\n",
    "print(\"Before: \", document, \"\\nAfter: \", clean_string(document) )"
   ]
  },
  {
   "cell_type": "code",
   "execution_count": 5,
   "metadata": {
    "deletable": false,
    "editable": false,
    "nbgrader": {
     "grade": true,
     "grade_id": "exercise1",
     "locked": true,
     "points": "2",
     "solution": false
    }
   },
   "outputs": [
    {
     "name": "stdout",
     "output_type": "stream",
     "text": [
      "\n",
      "(Passed!)\n"
     ]
    }
   ],
   "source": [
    "# TEST CELL: Exercise 1\n",
    "\n",
    "clean_doc = clean_string(document)\n",
    "\n",
    "assert type(clean_doc) is str\n",
    "assert len(clean_doc) == 196\n",
    "assert all([c.isalpha() or c.isspace() for c in clean_doc])\n",
    "assert clean_doc == clean_doc.lower()\n",
    "\n",
    "def check_hash(doc, key):\n",
    "    from hashlib import md5\n",
    "    doc_hash = md5(doc.encode()).hexdigest()\n",
    "    assert doc_hash == key, \"Your document does not have the correct contents.\"\n",
    "\n",
    "check_hash(clean_doc, 'c8d4ad008081b97ba6ce2ddb1bb5a070')\n",
    "\n",
    "print(\"\\n(Passed!)\")"
   ]
  },
  {
   "cell_type": "markdown",
   "metadata": {
    "deletable": false,
    "editable": false,
    "nbgrader": {
     "grade": false,
     "locked": true,
     "solution": false
    }
   },
   "source": [
    "## *\"Read this carefully before you proceed to the next steps!\"*"
   ]
  },
  {
   "cell_type": "markdown",
   "metadata": {
    "deletable": false,
    "editable": false,
    "nbgrader": {
     "grade": false,
     "locked": true,
     "solution": false
    }
   },
   "source": [
    "### Introduction to ASCII and Ciphers\n",
    "\n",
    "* The ASCII system provides a way to map characters to a numerical value. In this case, we are only concerned with lowercase characters from a-z (the characters in your cleaned string). We are not concerned with encoding spaces in this problem. The full ASCII table can be found here: http://www.asciitable.com/. The ASCII code for the character `'a'` is 97 and the ASCII code for the character `'z'` is 122, with the other letters falling in between those values. You can use the Python function `ord(c)` to convert a character `c` to its ASCII representation."
   ]
  },
  {
   "cell_type": "code",
   "execution_count": 6,
   "metadata": {
    "deletable": false,
    "editable": false,
    "nbgrader": {
     "grade": false,
     "locked": true,
     "solution": false
    }
   },
   "outputs": [
    {
     "data": {
      "text/plain": [
       "97"
      ]
     },
     "execution_count": 6,
     "metadata": {},
     "output_type": "execute_result"
    }
   ],
   "source": [
    "ord('a')"
   ]
  },
  {
   "cell_type": "code",
   "execution_count": 7,
   "metadata": {
    "deletable": false,
    "editable": false,
    "nbgrader": {
     "grade": false,
     "locked": true,
     "solution": false
    }
   },
   "outputs": [
    {
     "data": {
      "text/plain": [
       "122"
      ]
     },
     "execution_count": 7,
     "metadata": {},
     "output_type": "execute_result"
    }
   ],
   "source": [
    "ord('z')"
   ]
  },
  {
   "cell_type": "markdown",
   "metadata": {
    "deletable": false,
    "editable": false,
    "nbgrader": {
     "grade": false,
     "locked": true,
     "solution": false
    }
   },
   "source": [
    "**`chr()`.** The `chr(x)` function converts an ASCII integer value `x` to its corresponding ASCII symbol. For instance, `chr(ord('a'))` would return `'a'`, so this provides a mapping from numbers into characters."
   ]
  },
  {
   "cell_type": "code",
   "execution_count": 8,
   "metadata": {
    "deletable": false,
    "editable": false,
    "nbgrader": {
     "grade": false,
     "locked": true,
     "solution": false
    }
   },
   "outputs": [
    {
     "data": {
      "text/plain": [
       "'a'"
      ]
     },
     "execution_count": 8,
     "metadata": {},
     "output_type": "execute_result"
    }
   ],
   "source": [
    "chr(97)"
   ]
  },
  {
   "cell_type": "code",
   "execution_count": 9,
   "metadata": {
    "deletable": false,
    "editable": false,
    "nbgrader": {
     "grade": false,
     "locked": true,
     "solution": false
    }
   },
   "outputs": [
    {
     "data": {
      "text/plain": [
       "'a'"
      ]
     },
     "execution_count": 9,
     "metadata": {},
     "output_type": "execute_result"
    }
   ],
   "source": [
    "chr(ord('a'))"
   ]
  },
  {
   "cell_type": "code",
   "execution_count": 10,
   "metadata": {
    "deletable": false,
    "editable": false,
    "nbgrader": {
     "grade": false,
     "locked": true,
     "solution": false
    }
   },
   "outputs": [
    {
     "data": {
      "text/plain": [
       "'z'"
      ]
     },
     "execution_count": 10,
     "metadata": {},
     "output_type": "execute_result"
    }
   ],
   "source": [
    "chr(122)"
   ]
  },
  {
   "cell_type": "markdown",
   "metadata": {
    "deletable": false,
    "editable": false,
    "nbgrader": {
     "grade": false,
     "locked": true,
     "solution": false
    }
   },
   "source": [
    "**Index ciphers.** In the next exercise, you will consider an _index cipher_, which is a method for encoding or encrypting a message. Here is how a simple index cipher works.\n",
    "\n",
    "We encode **one word at a time.** For each index `i` in a given word, the encoded character at that index is the ASCII representation of [the ASCII value of the original character **plus** `i`]. The index then resets to zero for the next word. Remember, each character is mapped to an integer value in the ASCII system.\n",
    "\n",
    "> **Example.** Consider the word, `\"abc\"`. The letter `'a'` is at index 0, `'b'` is at index 1, and '`c`' is at index 2. We want to start by converting each character to its ASCII representation, so `abc` becomes `[97, 98, 99]`. We then add the index of each character to its respective ASCII value, `[97+0, 98+1, 99+2]`. Finally, we convert those sums back into character values, giving us `[97, 99, 101]` becoming `\"ace\"` as the encoded representation. In this case, the character associated with ASCII value `99` is `'c'`, so the second index of our encoded document would be `'c'`. Putting it all together, the encoded version of `\"abc\"` is `\"ace\"`.\n",
    "\n",
    "**IMPORTANT:** We are using a circular looping system to make sure that we only deal with the characters `'a'` through `'z'`. Characters with higher or lower ASCII values include brackets and other special characters, and we do not want to deal with those. Instead, if the encoding of a character would go beyond `'z'`, we will wraparound.\n",
    "\n",
    "More specifically, suppose the encoded value of a character _without_ wraparound is more than `ord('z') = 122`. Then, in this case, use the following formula to calculate the encoded value instead:\n",
    "\n",
    "> `encoded_value = 96 + (ascii_value_of_unencoded_character - 122 + index_of_unencoded_character)`\n",
    "\n",
    "Converting this value back to a character will result in something between `'a'` and `'z'`, inclusive.\n",
    "\n",
    "For instance, consider the string `'xyz'`. The letter `'z'` is at index 2, so its encoded value will be `ord('z')+2 == 122+2 = 124`, which is greater than 122. Therefore, we should instead encode it as the ASCII value of `96 + (122 - 122 + 2) == 98`, which corresponds to the character `'b'`.\n",
    "\n",
    "Make sure you use this formula **ONLY** when you would end up with a ASCII value larger than 122 (`'z'`) after adding the index value."
   ]
  },
  {
   "cell_type": "markdown",
   "metadata": {
    "deletable": false,
    "editable": false,
    "nbgrader": {
     "grade": false,
     "locked": true,
     "solution": false
    }
   },
   "source": [
    "## *\"Got it? Let's jump back into the mission!\"*"
   ]
  },
  {
   "cell_type": "markdown",
   "metadata": {
    "collapsed": true,
    "deletable": false,
    "editable": false,
    "nbgrader": {
     "grade": false,
     "locked": true,
     "solution": false
    }
   },
   "source": [
    "**Exercise 2** (3 points). You now need to encode the `document` so important information is not intercepted upon transmission to the Langley HQ.\n",
    "\n",
    "Complete the following function, `encode_document(s)`, so that it takes an _already cleaned_ document `s` as input and returns that document encoded using the index cipher scheme. Your encoded document should not have any leading or trailing whitespace.\n",
    "\n",
    "**NOTE:** Do not encode spaces, as they are not sensitive information (when a space is found in the cleaned document, just add it unchanged to the encoded document and proceed to the next character). Alternatively, you can split the cleaned document on spaces and proceed that way, adding a space manually after each encoded word. For example, if `clean_doc == \"abc def\"`, the encoded version should be `\"ace dfh\"`."
   ]
  },
  {
   "cell_type": "code",
   "execution_count": 11,
   "metadata": {},
   "outputs": [
    {
     "name": "stdout",
     "output_type": "stream",
     "text": [
      "=== Original document ===\n",
      "we are planning the launch of project rendezvous for early next week from area fifty two over the tests have proceeded on schedule over no outside interference yet over the plan is on over and out\n",
      "\n",
      "=== Encoded document ===\n",
      "wf asg pmcqrntn tig lbwqgm og psqmihz rfpgiebvcb fpt ebtoc nfzw wfgn fsqp asgd fjhwc txq owgu tig tfuww hbxh psqfijjll oo sdjhhzrl owgu np ovvvmik iovhvkkymwmp yfv owgu tig pmcq it oo owgu aof ovv\n"
     ]
    }
   ],
   "source": [
    "def encode_document(clean_doc):\n",
    "    assert type(clean_doc) is str\n",
    "    encoded_doc = ''\n",
    "    for word in clean_doc.split(' '):\n",
    "        encoded_word = ''\n",
    "        for i in range(len(word)):\n",
    "            old_char = ord(word[i])\n",
    "            if old_char + i > 122:\n",
    "                new_char = chr(96 + (old_char - 122 + i))\n",
    "            else:\n",
    "                new_char = chr(old_char + i)\n",
    "            encoded_word += new_char\n",
    "        encoded_doc += encoded_word + ' '\n",
    "    return encoded_doc.strip()\n",
    "    \n",
    "## Check the result of your encoding\n",
    "clean_doc = clean_string(document)\n",
    "print(f\"=== Original document ===\\n{clean_doc}\")\n",
    "\n",
    "encoded_clean_doc = encode_document(clean_doc)\n",
    "print(f\"\\n=== Encoded document ===\\n{encoded_clean_doc}\")"
   ]
  },
  {
   "cell_type": "code",
   "execution_count": 12,
   "metadata": {
    "deletable": false,
    "editable": false,
    "nbgrader": {
     "grade": true,
     "grade_id": "exercise2",
     "locked": true,
     "points": "3",
     "solution": false
    }
   },
   "outputs": [
    {
     "name": "stdout",
     "output_type": "stream",
     "text": [
      "\n",
      "(Passed!)\n"
     ]
    }
   ],
   "source": [
    "# TEST CELL: Exercise 2\n",
    "encoded_doc = encode_document(clean_doc)\n",
    "assert type(encoded_doc) is str\n",
    "assert len(encoded_doc) == 196\n",
    "\n",
    "def check_hash(doc, key):\n",
    "    from hashlib import md5\n",
    "    doc_hash = md5(doc.encode()).hexdigest()\n",
    "    assert doc_hash == key, \"Your document does not have the correct contents.\"\n",
    "\n",
    "check_hash(encoded_doc, 'b0e9d9e15a99670a4b35f6456f34482e')\n",
    "print(\"\\n(Passed!)\")"
   ]
  },
  {
   "cell_type": "markdown",
   "metadata": {
    "deletable": false,
    "editable": false,
    "nbgrader": {
     "grade": false,
     "locked": true,
     "solution": false
    }
   },
   "source": [
    "**Exercise 3** (3 points). Now, create a **decoder** function that you can send to HQ in a separate transmission to decode the encoded document and deal with a possible threat!\n",
    "\n",
    "Complete the following function `decode_document(s)`, that takes an encoded document as an argument and returns that document decoded to its original message."
   ]
  },
  {
   "cell_type": "code",
   "execution_count": 13,
   "metadata": {},
   "outputs": [
    {
     "name": "stdout",
     "output_type": "stream",
     "text": [
      "=== Original document ===\n",
      "we are planning the launch of project rendezvous for early next week from area fifty two over the tests have proceeded on schedule over no outside interference yet over the plan is on over and out\n",
      "\n",
      "=== Encoded document ===\n",
      "wf asg pmcqrntn tig lbwqgm og psqmihz rfpgiebvcb fpt ebtoc nfzw wfgn fsqp asgd fjhwc txq owgu tig tfuww hbxh psqfijjll oo sdjhhzrl owgu np ovvvmik iovhvkkymwmp yfv owgu tig pmcq it oo owgu aof ovv\n",
      "\n",
      "=== Decoded document ===\n",
      "we are planning the launch of project rendezvous for early next week from area fifty two over the tests have proceeded on schedule over no outside interference yet over the plan is on over and out\n"
     ]
    }
   ],
   "source": [
    "encoded_doc = encode_document(clean_doc)\n",
    "\n",
    "def decode_document(encoded_doc):\n",
    "    assert type(encoded_doc) is str\n",
    "    decoded_doc = ''\n",
    "    for word in encoded_doc.split():\n",
    "        decoded_word = ''\n",
    "        for i in range(len(word)):\n",
    "            encoded_char = ord(word[i])\n",
    "            if encoded_char - i < 97:\n",
    "                decoded_char = chr(123 + (encoded_char - 97) - i)\n",
    "            else:\n",
    "                decoded_char = chr(encoded_char - i)\n",
    "            decoded_word += decoded_char\n",
    "        decoded_doc += decoded_word + ' '\n",
    "    return decoded_doc.strip()\n",
    "    \n",
    "## Check the result of your encoding\n",
    "## This should equal your original cleaned document!\n",
    "clean_doc = clean_string(document)\n",
    "print(f\"=== Original document ===\\n{clean_doc}\")\n",
    "\n",
    "encoded_clean_doc = encode_document(clean_doc)\n",
    "print(f\"\\n=== Encoded document ===\\n{encoded_clean_doc}\")\n",
    "\n",
    "decoded_clean_doc = decode_document(encoded_clean_doc)\n",
    "print(f\"\\n=== Decoded document ===\\n{decoded_clean_doc}\")"
   ]
  },
  {
   "cell_type": "code",
   "execution_count": 14,
   "metadata": {
    "deletable": false,
    "editable": false,
    "nbgrader": {
     "grade": true,
     "grade_id": "exercise3",
     "locked": true,
     "points": "3",
     "solution": false
    }
   },
   "outputs": [
    {
     "name": "stdout",
     "output_type": "stream",
     "text": [
      "\n",
      "(Passed!)\n"
     ]
    }
   ],
   "source": [
    "# TEST CELL: Exercise 3\n",
    "decoded_doc = decode_document(encoded_doc)\n",
    "\n",
    "assert type(decoded_doc) is str\n",
    "assert len(decoded_doc) == 196\n",
    "\n",
    "def check_hash(doc, key):\n",
    "    from hashlib import md5\n",
    "    doc_hash = md5(doc.encode()).hexdigest()\n",
    "    assert doc_hash == key, \"Your document does not have the correct contents.\"\n",
    "\n",
    "check_hash(decoded_doc, 'c8d4ad008081b97ba6ce2ddb1bb5a070')\n",
    "print(\"\\n(Passed!)\")"
   ]
  },
  {
   "cell_type": "markdown",
   "metadata": {
    "deletable": false,
    "editable": false,
    "nbgrader": {
     "grade": false,
     "locked": true,
     "solution": false
    }
   },
   "source": [
    "## *\"Congratulations! You have been invaluable assistance to the Directorate of Operations!\"*"
   ]
  },
  {
   "cell_type": "markdown",
   "metadata": {
    "deletable": false,
    "editable": false,
    "nbgrader": {
     "grade": false,
     "locked": true,
     "solution": false
    }
   },
   "source": [
    "**Fin!** Remember to test your solutions by running them as the autograder will: restart the kernel and run all cells from \"top-to-bottom.\" Also remember to submit to the autograder; otherwise, you will not get credit for your hard work!"
   ]
  }
 ],
 "metadata": {
  "kernelspec": {
   "display_name": "Python 3 [3.6]",
   "language": "python",
   "name": "python3"
  },
  "language_info": {
   "codemirror_mode": {
    "name": "ipython",
    "version": 3
   },
   "file_extension": ".py",
   "mimetype": "text/x-python",
   "name": "python",
   "nbconvert_exporter": "python",
   "pygments_lexer": "ipython3",
   "version": "3.6.4"
  }
 },
 "nbformat": 4,
 "nbformat_minor": 2
}
