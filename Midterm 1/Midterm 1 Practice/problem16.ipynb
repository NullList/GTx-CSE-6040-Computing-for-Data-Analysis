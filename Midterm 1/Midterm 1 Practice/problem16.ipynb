{
 "cells": [
  {
   "cell_type": "markdown",
   "metadata": {
    "deletable": false,
    "editable": false,
    "nbgrader": {
     "grade": false,
     "locked": true,
     "solution": false
    }
   },
   "source": [
    "# Problem 16: Debug-a-thon\n",
    "\n",
    "_Version 1.0_"
   ]
  },
  {
   "cell_type": "markdown",
   "metadata": {
    "deletable": false,
    "editable": false,
    "nbgrader": {
     "grade": false,
     "locked": true,
     "solution": false
    }
   },
   "source": [
    "One facility you have been developing is **debugging.** Errors are bound to happen, but good programmers can spot and rectify them. This notebook is all about pinpointing errors.\n",
    "\n",
    "In the exercises below, we were careless coders and every program fragment has errors. Your task is to understand each problem, identify the error, and fix them. Good luck!"
   ]
  },
  {
   "cell_type": "markdown",
   "metadata": {
    "deletable": false,
    "editable": false,
    "nbgrader": {
     "grade": false,
     "locked": true,
     "solution": false
    }
   },
   "source": [
    "**Exercise 0** (0 points). Here's a cartoon with some encouragement that you are not alone ([source: `xkcd`](https://xkcd.com/1316/)):\n",
    "\n",
    "![xkcd comics: debugging](inexplicable.png)"
   ]
  },
  {
   "cell_type": "markdown",
   "metadata": {
    "deletable": false,
    "editable": false,
    "nbgrader": {
     "grade": false,
     "locked": true,
     "solution": false
    }
   },
   "source": [
    "**Exercise 1** (2 points). Suppose we wish to count how many times different words occur in a string.\n",
    "\n",
    "The cell below defines a function, `count_words(text)`, which has the following _intended_ behavior.\n",
    "\n",
    "1. The input argument is a string of text named `text`.\n",
    "2. The input contains a sequence of zero or more words. A word is a sequence of alphabetic characters, and two words will be separated by one or more contiguous whitespace characters.\n",
    "3. The letters within a word may be uppercase or lowercase.\n",
    "4. The function should return a dictionary. Each key should be a word from `text` **in all lowercase letters**. The corresponding value is the number of times that word occurred. For example,\n",
    "\n",
    "```python\n",
    "answer('Amazing amazing IS this amazing beautiful   world')\n",
    "```\n",
    "\n",
    "should return\n",
    "\n",
    "```python\n",
    "{'amazing': 3, 'is': 1, 'this': 1, 'beautiful': 1, 'world': 1}\n",
    "```\n",
    "\n",
    "Unfortunately, the implementation of `count_words()` given below is buggy. It sometimes causes errors and may produce the incorrect output. Try to understand what is wrong and rectify the problem by modifying the code accordingly. If it would be helpful, we've provided an extra cell you can use for debugging."
   ]
  },
  {
   "cell_type": "code",
   "execution_count": 1,
   "metadata": {
    "collapsed": true
   },
   "outputs": [],
   "source": [
    "# Modify the function as you deem fit!\n",
    "\n",
    "def count_words(text):\n",
    "    list_words =  text.lower().split(' ')\n",
    "    word_dictionary = {}\n",
    "    for word in list_words:\n",
    "        if not word or word.isspace(): continue\n",
    "        if word not in word_dictionary:\n",
    "            word_dictionary[word] = 0\n",
    "        word_dictionary[word] += 1\n",
    "    return(word_dictionary)"
   ]
  },
  {
   "cell_type": "code",
   "execution_count": 2,
   "metadata": {},
   "outputs": [
    {
     "data": {
      "text/plain": [
       "{'amazing': 3, 'is': 1, 'this': 1, 'beautiful': 1, 'world': 1}"
      ]
     },
     "execution_count": 2,
     "metadata": {},
     "output_type": "execute_result"
    }
   ],
   "source": [
    "## Additional cell for debugging\n",
    "\n",
    "debug_text = 'Amazing amazing IS this amazing beautiful   world'\n",
    "count_words(debug_text)"
   ]
  },
  {
   "cell_type": "code",
   "execution_count": 3,
   "metadata": {
    "deletable": false,
    "editable": false,
    "nbgrader": {
     "grade": true,
     "grade_id": "exercise1",
     "locked": true,
     "points": "2",
     "solution": false
    }
   },
   "outputs": [
    {
     "name": "stdout",
     "output_type": "stream",
     "text": [
      "\n",
      "(Passed!)\n"
     ]
    }
   ],
   "source": [
    "# Test cell: `exercise_1`\n",
    "\n",
    "def gen_text():\n",
    "    from random import randrange, choice, choices\n",
    "    from collections import defaultdict\n",
    "    alphabet = ''.join([chr(k) for k in range(ord('a'), ord('z')+1)])\n",
    "    def gen_word(max_len=10):\n",
    "        return ''.join(choices(alphabet, k=randrange(1, max_len+1)))\n",
    "    def gen_vocab(max_len=5):\n",
    "        return {gen_word(): 0 for _ in range(randrange(1, max_len+1))}\n",
    "    def randomize_case(w):\n",
    "        if len(w) == 1:\n",
    "            return choice(w + w.upper())\n",
    "        return ''.join([randomize_case(c) for c in w])\n",
    "    def gen_sep(max_len=5, min_len=1):\n",
    "        return ' ' * randrange(min_len, max_len+1)\n",
    "    def gen_sentence(vocab, max_len=20):\n",
    "        sentence = gen_sep(min_len=0)\n",
    "        for i in range(randrange(0, max_len)):\n",
    "            word_i = choice(list(vocab.keys()))\n",
    "            vocab[word_i] += 1\n",
    "            sentence += randomize_case(word_i) + gen_sep(randrange(1, 5))\n",
    "        if randrange(0, 2):\n",
    "            sentence.rstrip()\n",
    "        return sentence\n",
    "    def remove_zero_counts(vocab):\n",
    "        return {w: c for w, c in vocab.items() if c > 0}\n",
    "    \n",
    "    vocab = gen_vocab()\n",
    "    sentence = gen_sentence(vocab)\n",
    "    vocab_soln = remove_zero_counts(vocab)\n",
    "    return sentence, vocab_soln\n",
    "\n",
    "for _ in range(10):\n",
    "    sentence, answer = gen_text()\n",
    "    your_answer = count_words(sentence)\n",
    "    assert your_answer == answer, f\"Your solution did not work on the following input:\\n'{sentence}'\\nYou produced: {your_answer}\"\n",
    "    \n",
    "assert len(count_words('')) == 0\n",
    "assert len(count_words('     ')) == 0\n",
    "    \n",
    "print(\"\\n(Passed!)\")"
   ]
  },
  {
   "cell_type": "markdown",
   "metadata": {
    "deletable": false,
    "editable": false,
    "nbgrader": {
     "grade": false,
     "locked": true,
     "solution": false
    }
   },
   "source": [
    "**Exercise 2** (3 points: 1 point for an \"exposed\" test, 2 points for a hidden test).\n",
    "\n",
    "Consider a _modified_ Fibonacci sequence, which is defined by the recurrence,\n",
    "\n",
    "$$\n",
    "  t_{i} = \\left\\{\\begin{array}{cl}\n",
    "              a & i = 1 \\\\\n",
    "              b & i = 2 \\\\\n",
    "              t_{i-2} + (t_{i-1})^2 & i > 2\n",
    "          \\end{array}\\right.,\n",
    "$$\n",
    "\n",
    "where $a$ and $b$ are given constants.\n",
    "\n",
    "Suppose you want to write a function, `generate_numbers(a, b)`, that calculates the first seven (7) values of this sequence and returns them in order as a list, i.e., $\\left[ t_1=a, t_2=b, t_3, \\ldots, t_7 \\right]$. For example, if `a=0` and `b=1`, then you want\n",
    "\n",
    "```python\n",
    "    generate_numbers(0, 1) == [0, 1, 1, 2, 5, 27, 734]\n",
    "```\n",
    "\n",
    "Your friend has tried to implement `generate_numbers()` in the code cell below. However, it's not working. Your task in this exercise is to correct it.\n",
    "\n",
    "In particular, your corrected `generate_numbers(a, b)` should take as input:\n",
    "\n",
    "1. `a` = the value of the first number in the sequence\n",
    "2. `b` = the value of the second number in the sequence\n",
    "\n",
    "And it should return:\n",
    "\n",
    "1. A **list** of the first 7 numbers of that specific sequence. If `a` and `b` happen to be floating-point values, you should **round** each element of the returned list to 3 decimal places.\n",
    "\n",
    "**Note**: Depending on the starting values `a` and `b`, it's possible some computed $t_i$ may exceed the numerical range of floating-point values and Python might produce an overflow error. You do **NOT** need to handle that possibility in this function."
   ]
  },
  {
   "cell_type": "code",
   "execution_count": 22,
   "metadata": {},
   "outputs": [],
   "source": [
    "# You can modify any or all of the code in this cell,\n",
    "# but to pass, you must define a function\n",
    "# generate_numbers(a, b) that meets the specifications.\n",
    "\n",
    "#NumRange = 7  # these many modified Fibonacci numbers. \n",
    "def fibonacci_gt(n, t1, t2):\n",
    "    if n<0: \n",
    "        print(\"Incorrect input\") \n",
    "    elif n == 0: \n",
    "        return t1\n",
    "    elif n == 1: \n",
    "        return t2\n",
    "    else: \n",
    "        return fibonacci_gt(n-1,t1,t2)**2 + fibonacci_gt(n-2,t1,t2)\n",
    "\n",
    "def generate_numbers(a, b):\n",
    "    numbers = []\n",
    "    for i in range(7):\n",
    "        numbers.append(fibonacci_gt(i,a,b))\n",
    "    numbers = [round(x,3) for x in numbers]\n",
    "    return numbers"
   ]
  },
  {
   "cell_type": "code",
   "execution_count": 23,
   "metadata": {},
   "outputs": [
    {
     "ename": "TypeError",
     "evalue": "type list doesn't define __round__ method",
     "output_type": "error",
     "traceback": [
      "\u001b[0;31m---------------------------------------------------------------------------\u001b[0m",
      "\u001b[0;31mTypeError\u001b[0m                                 Traceback (most recent call last)",
      "\u001b[0;32m<ipython-input-23-9e37cad32894>\u001b[0m in \u001b[0;36m<module>\u001b[0;34m()\u001b[0m\n\u001b[0;32m----> 1\u001b[0;31m \u001b[0mround\u001b[0m\u001b[0;34m(\u001b[0m\u001b[0;34m[\u001b[0m\u001b[0;36m1\u001b[0m\u001b[0;34m,\u001b[0m\u001b[0;36m2\u001b[0m\u001b[0;34m,\u001b[0m\u001b[0;36m3\u001b[0m\u001b[0;34m]\u001b[0m\u001b[0;34m)\u001b[0m\u001b[0;34m\u001b[0m\u001b[0m\n\u001b[0m",
      "\u001b[0;31mTypeError\u001b[0m: type list doesn't define __round__ method"
     ]
    }
   ],
   "source": [
    "round([1,2,3])"
   ]
  },
  {
   "cell_type": "code",
   "execution_count": 24,
   "metadata": {
    "deletable": false,
    "editable": false,
    "nbgrader": {
     "grade": true,
     "grade_id": "exercise_2",
     "locked": true,
     "points": "1",
     "solution": false
    }
   },
   "outputs": [
    {
     "ename": "AssertionError",
     "evalue": "please check the type of your output",
     "output_type": "error",
     "traceback": [
      "\u001b[0;31m---------------------------------------------------------------------------\u001b[0m",
      "\u001b[0;31mAssertionError\u001b[0m                            Traceback (most recent call last)",
      "\u001b[0;32m<ipython-input-24-839621051b3b>\u001b[0m in \u001b[0;36m<module>\u001b[0;34m()\u001b[0m\n\u001b[1;32m      1\u001b[0m \u001b[0;31m# Exposed test cell: `exercise_2`\u001b[0m\u001b[0;34m\u001b[0m\u001b[0;34m\u001b[0m\u001b[0m\n\u001b[0;32m----> 2\u001b[0;31m \u001b[0;32massert\u001b[0m \u001b[0mtype\u001b[0m\u001b[0;34m(\u001b[0m\u001b[0mgenerate_numbers\u001b[0m\u001b[0;34m(\u001b[0m\u001b[0;36m0\u001b[0m\u001b[0;34m,\u001b[0m \u001b[0;36m1\u001b[0m\u001b[0;34m)\u001b[0m\u001b[0;34m)\u001b[0m \u001b[0;32mis\u001b[0m \u001b[0mlist\u001b[0m\u001b[0;34m,\u001b[0m \u001b[0;34m'please check the type of your output'\u001b[0m\u001b[0;34m\u001b[0m\u001b[0m\n\u001b[0m\u001b[1;32m      3\u001b[0m \u001b[0;34m\u001b[0m\u001b[0m\n\u001b[1;32m      4\u001b[0m \u001b[0;32massert\u001b[0m \u001b[0mgenerate_numbers\u001b[0m\u001b[0;34m(\u001b[0m\u001b[0;36m0\u001b[0m\u001b[0;34m,\u001b[0m \u001b[0;36m1\u001b[0m\u001b[0;34m)\u001b[0m \u001b[0;34m==\u001b[0m \u001b[0;34m[\u001b[0m\u001b[0;36m0\u001b[0m\u001b[0;34m,\u001b[0m \u001b[0;36m1\u001b[0m\u001b[0;34m,\u001b[0m \u001b[0;36m1\u001b[0m\u001b[0;34m,\u001b[0m \u001b[0;36m2\u001b[0m\u001b[0;34m,\u001b[0m \u001b[0;36m5\u001b[0m\u001b[0;34m,\u001b[0m \u001b[0;36m27\u001b[0m\u001b[0;34m,\u001b[0m \u001b[0;36m734\u001b[0m\u001b[0;34m]\u001b[0m\u001b[0;34m\u001b[0m\u001b[0m\n\u001b[1;32m      5\u001b[0m \u001b[0;32massert\u001b[0m \u001b[0mgenerate_numbers\u001b[0m\u001b[0;34m(\u001b[0m\u001b[0;36m0.3\u001b[0m\u001b[0;34m,\u001b[0m \u001b[0;36m0.7\u001b[0m\u001b[0;34m)\u001b[0m \u001b[0;34m==\u001b[0m \u001b[0;34m[\u001b[0m\u001b[0;36m0.3\u001b[0m\u001b[0;34m,\u001b[0m \u001b[0;36m0.7\u001b[0m\u001b[0;34m,\u001b[0m \u001b[0;36m0.79\u001b[0m\u001b[0;34m,\u001b[0m \u001b[0;36m1.324\u001b[0m\u001b[0;34m,\u001b[0m \u001b[0;36m2.543\u001b[0m\u001b[0;34m,\u001b[0m \u001b[0;36m7.792\u001b[0m\u001b[0;34m,\u001b[0m \u001b[0;36m63.261\u001b[0m\u001b[0;34m]\u001b[0m\u001b[0;34m\u001b[0m\u001b[0m\n",
      "\u001b[0;31mAssertionError\u001b[0m: please check the type of your output"
     ]
    }
   ],
   "source": [
    "# Exposed test cell: `exercise_2`\n",
    "assert type(generate_numbers(0, 1)) is list, 'please check the type of your output'\n",
    "\n",
    "assert generate_numbers(0, 1) == [0, 1, 1, 2, 5, 27, 734]\n",
    "assert generate_numbers(0.3, 0.7) == [0.3, 0.7, 0.79, 1.324, 2.543, 7.792, 63.261]\n",
    "assert generate_numbers(5, 1) == [5, 1, 6, 37, 1375, 1890662, 3574602799619]\n",
    "assert generate_numbers(1, 2) == [1, 2, 5, 27, 734, 538783, 290287121823]\n",
    "\n",
    "print(\"\\n(Passed!)\")"
   ]
  },
  {
   "cell_type": "code",
   "execution_count": 25,
   "metadata": {
    "deletable": false,
    "editable": false,
    "nbgrader": {
     "grade": true,
     "grade_id": "exercise_2_hidden",
     "locked": true,
     "points": "2",
     "solution": false
    }
   },
   "outputs": [
    {
     "name": "stdout",
     "output_type": "stream",
     "text": [
      "\n",
      "In addition to the tests above, this cell will include some hidden tests.\n",
      "You will only know the result when you submit your solution to the\n",
      "autograder.\n",
      "\n"
     ]
    }
   ],
   "source": [
    "# Hidden test cell: exercise_2_hidden\n",
    "\n",
    "print(\"\"\"\n",
    "In addition to the tests above, this cell will include some hidden tests.\n",
    "You will only know the result when you submit your solution to the\n",
    "autograder.\n",
    "\"\"\")\n",
    "\n",
    "###\n",
    "### AUTOGRADER TEST - DO NOT REMOVE\n",
    "###\n"
   ]
  },
  {
   "cell_type": "markdown",
   "metadata": {
    "deletable": false,
    "editable": false,
    "nbgrader": {
     "grade": false,
     "locked": true,
     "solution": false
    }
   },
   "source": [
    "**Exercise 3** (2 points): The Smart Trader.\n",
    "\n",
    "One of the CSE-6040 TAs wants to analyze what would have been the best time to buy and sell a bitcoin, given a historical list of daily prices. (Prices are positive integers and you can ignore the units.)\n",
    "\n",
    "For example, suppose the daily prices on five consecutive days were `[10, 7, 2, 5, 1]`, and buying or selling must follow these rules:\n",
    "\n",
    "1. Over this time period, only one \"buy\" and one \"sell\" transaction can occur.\n",
    "2. If a person buys on day $i$, then she can only sell on a day $j \\geq i$.\n",
    "3. The profit is the selling price on day $i$ minus the buying price on day $j$.\n",
    "\n",
    "In this example, by buying on day $i=2$, when the price was 2 units, and selling on day $j=3$, when the prices was 5 units, one could have earned a profit of 5-2 = 3 units.\n",
    "\n",
    "The TA has sketched a program to calculate the maximum possible profit. Her solution appears in the function `make_money(prices)`, defined in the code cell below. It takes a list of prices (`prices`) over several days and returns the maximum profit. It is correct **except** there are some missing values, or \"holes,\" shown as **?**'s. Your task is to determine what goes in these holes.\n",
    "\n",
    "You can use the debugging cell provided for your own analysis."
   ]
  },
  {
   "cell_type": "code",
   "execution_count": 13,
   "metadata": {},
   "outputs": [],
   "source": [
    "# You can modify the function as you deem fit!\n",
    "\n",
    "def make_money(prices): ## `prices` is a list\n",
    "    min_price = prices[0]\n",
    "    max_profit = 0\n",
    "    for i in range(len(prices)):\n",
    "        if (prices[i] < min_price):\n",
    "            min_price = prices[i]\n",
    "        elif prices[i] - min_price > max_profit:\n",
    "            max_profit = prices[i] - min_price\n",
    "    return max_profit"
   ]
  },
  {
   "cell_type": "code",
   "execution_count": 14,
   "metadata": {
    "collapsed": true
   },
   "outputs": [],
   "source": [
    "## Debugging cell\n",
    "assert make_money([10, 7, 2, 5, 1]) == 3, 'Check your solution'"
   ]
  },
  {
   "cell_type": "code",
   "execution_count": 15,
   "metadata": {
    "deletable": false,
    "editable": false,
    "nbgrader": {
     "grade": true,
     "grade_id": "exercise_3",
     "locked": true,
     "points": "2",
     "solution": false
    }
   },
   "outputs": [
    {
     "name": "stdout",
     "output_type": "stream",
     "text": [
      "passed - test 1\n",
      "passed - test 2\n",
      "passed - test 3\n",
      "passed - test 4\n",
      "passed - test 5\n",
      "Running a battery of longer tests...\n",
      "\n",
      "(Passed!)\n"
     ]
    }
   ],
   "source": [
    "# Test cell: `exercise_3`\n",
    "\n",
    "assert make_money([7,1,5,3,6,4]) == 5, 'Check your solution'\n",
    "print('passed - test 1')\n",
    "\n",
    "assert make_money([10,8,5,3,6,4]) == 3, 'Check your solution'\n",
    "print('passed - test 2')\n",
    "\n",
    "assert make_money([10,8,5,9,6,4]) == 4, 'Check your solution'\n",
    "print('passed - test 3')\n",
    "\n",
    "assert make_money([1,8,9,14,14]) == 13, 'Check your solution'\n",
    "print('passed - test 4')\n",
    "\n",
    "assert make_money([11,8,5,2,1]) == 0, 'Check your solution'\n",
    "print('passed - test 5')\n",
    "\n",
    "def gen_prices(max_price=100, max_run=10):\n",
    "    from random import randrange, random\n",
    "    def rand_run(b, s, n):\n",
    "        return [randrange(b, s+1) for _ in range(randrange(n))]\n",
    "    buy_price = randrange(max_price)\n",
    "    sell_price = randrange(buy_price, max_price)\n",
    "    if buy_price != sell_price and random() < 0.1:\n",
    "        sell_price = buy_price\n",
    "    X = rand_run(buy_price, sell_price, max_run)\n",
    "    Y = rand_run(buy_price, sell_price, max_run)\n",
    "    Z = rand_run(buy_price, sell_price, max_run)\n",
    "    prices = X + [buy_price] + Y\n",
    "    buy_day = len(X)\n",
    "    if buy_price != sell_price or random() > 0.5:\n",
    "        sell_day = len(prices)\n",
    "        prices += [sell_price]\n",
    "    else:\n",
    "        sell_day = buy_day\n",
    "    prices += Z\n",
    "    return prices, sell_price - buy_price, (buy_day, buy_price), (sell_day, sell_price)\n",
    "    \n",
    "def test_max_profit_rand(verbose=False):\n",
    "    prices, max_profit_true, (buy_day, buy_price), (sell_day, sell_price) = gen_prices()\n",
    "    if verbose: print(f\"Buy at {buy_price} on day {buy_day}, sell at {sell_price} on day {sell_day}:\\n==> {prices}\")\n",
    "    your_max_profit = make_money(prices)\n",
    "    assert your_max_profit == max_profit_true, \\\n",
    "           f\"Your solution didn't work on the following prices:\\n==> {prices}\\nThe max profit is {max_profit_true}, which comes from buying on day {buy_day} at price {buy_price} and selling on day {sell_day} at {sell_price}. You determined the max profit to be {your_max_profit} instead.\"\n",
    "\n",
    "print(\"Running a battery of longer tests...\")\n",
    "for _ in range(20):\n",
    "    test_max_profit_rand()\n",
    "    \n",
    "print(\"\\n(Passed!)\")"
   ]
  },
  {
   "cell_type": "markdown",
   "metadata": {
    "deletable": false,
    "editable": false,
    "nbgrader": {
     "grade": false,
     "locked": true,
     "solution": false
    }
   },
   "source": [
    "**Exercise 4** (3 points) Modified Tic-Tac-Toe Board Initialisation.\n",
    "\n",
    "We are building a complex Tic-Tac-Toe bot and we need a function to initialise a given board of size (`size * size`) as a 2-d list with blanks (`''`) except for the location ( defined by `position` which is a tuple `(row_num,column_num)`)).\n",
    "\n",
    "Your task is to find what is causing the below function to fail and rectify the bug.\n",
    "\n",
    "eg : `initialise_board(3,(1,1))` should output the following - \n",
    "\n",
    "`[['', '', ''], ['', 'X', ''], ['', '', '']]`\n",
    "\n",
    "Note 1: You have been given a snippet of code that has errors. You have to identify what is going wrong and rectify the errors in the same function.  \n"
   ]
  },
  {
   "cell_type": "code",
   "execution_count": 19,
   "metadata": {
    "collapsed": true
   },
   "outputs": [],
   "source": [
    "# You can modify the function as you deem fit!\n",
    "\n",
    "def initialise_board(size,position):\n",
    "    #row = [\"\"]*size\n",
    "    board = [[\"\"]*size for i in range(size)]\n",
    "    a = position[0]\n",
    "    b = position[1]\n",
    "    board[a][b] = \"X\"\n",
    "    return(board)"
   ]
  },
  {
   "cell_type": "code",
   "execution_count": 20,
   "metadata": {},
   "outputs": [
    {
     "data": {
      "text/plain": [
       "[['', 'X'], ['', '']]"
      ]
     },
     "execution_count": 20,
     "metadata": {},
     "output_type": "execute_result"
    }
   ],
   "source": [
    "## Feel free to use this cell for debugging\n",
    "initialise_board(2,(0,1))"
   ]
  },
  {
   "cell_type": "code",
   "execution_count": 21,
   "metadata": {
    "deletable": false,
    "editable": false,
    "nbgrader": {
     "grade": true,
     "grade_id": "exercise_4",
     "locked": true,
     "points": "3",
     "solution": false
    }
   },
   "outputs": [
    {
     "name": "stdout",
     "output_type": "stream",
     "text": [
      "Testing 9x9 board with an initial mark at position (8, 8)...\n",
      "Testing 6x6 board with an initial mark at position (5, 4)...\n",
      "Testing 6x6 board with an initial mark at position (5, 4)...\n",
      "Testing 1x1 board with an initial mark at position (0, 0)...\n",
      "Testing 8x8 board with an initial mark at position (6, 4)...\n",
      "Testing 3x3 board with an initial mark at position (2, 1)...\n",
      "Testing 1x1 board with an initial mark at position (0, 0)...\n",
      "Testing 6x6 board with an initial mark at position (3, 5)...\n",
      "Testing 9x9 board with an initial mark at position (4, 3)...\n",
      "Testing 9x9 board with an initial mark at position (7, 5)...\n",
      "\n",
      "(Passed!)\n"
     ]
    }
   ],
   "source": [
    "# Test cell: `exercise_4`\n",
    "\n",
    "assert initialise_board(4,(1,1)) == [['', '', '', ''], ['', 'X', '', ''], ['', '', '', ''], ['', '', '', '']]\n",
    "assert initialise_board(4,(1,2)) == [['', '', '', ''], ['', '', 'X', ''], ['', '', '', ''], ['', '', '', '']]\n",
    "assert initialise_board(3,(2,2)) == [['', '', ''], ['', '', ''], ['', '', 'X']]\n",
    "assert initialise_board(6,(2,4)) == [['', '', '', '', '', ''],['', '', '', '', '', ''], ['', '', '', '', 'X', ''],['', '', '', '', '', ''],['', '', '', '', '', ''],['', '', '', '', '', '']]\n",
    "\n",
    "def rand_test_board(max_n=10):\n",
    "    from random import randrange\n",
    "    n = randrange(1, max_n)\n",
    "    xi, xj = randrange(n), randrange(n)\n",
    "    print(f\"Testing {n}x{n} board with an initial mark at position {(xi, xj)}...\")\n",
    "    your_board = initialise_board(n, (xi, xj))\n",
    "    for i in range(n):\n",
    "        for j in range(n):\n",
    "            true_mark = 'X' if (xi, xj) == (i, j) else ''\n",
    "            your_mark = your_board[i][j]\n",
    "            assert your_mark == true_mark, f\"Position {(i, j)} should have a '{true_mark}', not a '{your_mark}'.\"\n",
    "\n",
    "for _ in range(10):\n",
    "    rand_test_board()\n",
    "\n",
    "print(\"\\n(Passed!)\")"
   ]
  },
  {
   "cell_type": "markdown",
   "metadata": {
    "collapsed": true,
    "deletable": false,
    "editable": false,
    "nbgrader": {
     "grade": false,
     "locked": true,
     "solution": false
    }
   },
   "source": [
    "**Fin!** You’ve reached the end of this part. Don’t forget to restart and run all cells again to make sure it’s all working when run in sequence; and make sure your work passes the submission process. Good luck!\n"
   ]
  }
 ],
 "metadata": {
  "kernelspec": {
   "display_name": "Python 3 [3.6]",
   "language": "python",
   "name": "python3"
  },
  "language_info": {
   "codemirror_mode": {
    "name": "ipython",
    "version": 3
   },
   "file_extension": ".py",
   "mimetype": "text/x-python",
   "name": "python",
   "nbconvert_exporter": "python",
   "pygments_lexer": "ipython3",
   "version": "3.6.4"
  }
 },
 "nbformat": 4,
 "nbformat_minor": 2
}
